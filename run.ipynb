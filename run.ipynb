{
 "cells": [
  {
   "cell_type": "code",
   "execution_count": 23,
   "metadata": {},
   "outputs": [
    {
     "name": "stdout",
     "output_type": "stream",
     "text": [
      "The autoreload extension is already loaded. To reload it, use:\n",
      "  %reload_ext autoreload\n"
     ]
    }
   ],
   "source": [
    "%load_ext autoreload\n",
    "%autoreload 2\n",
    "\n",
    "import numpy as np\n",
    "import helpers as hp\n",
    "import implementations as impl"
   ]
  },
  {
   "cell_type": "code",
   "execution_count": null,
   "metadata": {},
   "outputs": [],
   "source": []
  },
  {
   "cell_type": "code",
   "execution_count": 24,
   "metadata": {},
   "outputs": [],
   "source": [
    "# Load data\n",
    "\n",
    "x_train, x_test, y_train, train_ids, test_ids = hp.load_csv_data(\"data/\")"
   ]
  },
  {
   "cell_type": "code",
   "execution_count": 27,
   "metadata": {},
   "outputs": [
    {
     "data": {
      "text/plain": [
       "-299160"
      ]
     },
     "execution_count": 27,
     "metadata": {},
     "output_type": "execute_result"
    }
   ],
   "source": [
    "np.sum(y_train[y_train == -1])"
   ]
  },
  {
   "cell_type": "code",
   "execution_count": 5,
   "metadata": {},
   "outputs": [],
   "source": [
    "import src.features.build_features as bf\n",
    "\n",
    "x, idx = bf.less_than_percent_nans(x_train, 90)"
   ]
  },
  {
   "cell_type": "code",
   "execution_count": 6,
   "metadata": {},
   "outputs": [
    {
     "data": {
      "text/plain": [
       "(99,)"
      ]
     },
     "execution_count": 6,
     "metadata": {},
     "output_type": "execute_result"
    }
   ],
   "source": [
    "idx.shape"
   ]
  },
  {
   "cell_type": "code",
   "execution_count": 8,
   "metadata": {},
   "outputs": [
    {
     "data": {
      "text/plain": [
       "array([ 11,  14,  22,  55, 109, 110, 111, 112, 113, 114, 115, 116, 117,\n",
       "       119, 120, 121, 122, 123, 124, 125, 127, 128, 129, 130, 131, 132,\n",
       "       133, 134, 135, 137, 138, 139, 140, 141, 142, 143, 144, 145, 146,\n",
       "       147, 148, 149, 150, 151, 152, 153, 154, 155, 156, 157, 158, 159,\n",
       "       160, 161, 162, 163, 164, 165, 166, 167, 168, 169, 170, 171, 172,\n",
       "       173, 174, 175, 176, 177, 178, 180, 182, 183, 184, 185, 186, 187,\n",
       "       188, 189, 190, 191, 194, 195, 196, 197, 203, 204, 205, 206, 207,\n",
       "       208, 209, 210, 211, 212, 213, 214, 215])"
      ]
     },
     "execution_count": 8,
     "metadata": {},
     "output_type": "execute_result"
    }
   ],
   "source": [
    "idx"
   ]
  },
  {
   "cell_type": "code",
   "execution_count": 16,
   "metadata": {},
   "outputs": [],
   "source": [
    "inan_percentage_per_column = np.isnan(x_train).sum(axis=0) / len(x_train)"
   ]
  },
  {
   "cell_type": "code",
   "execution_count": 22,
   "metadata": {},
   "outputs": [
    {
     "data": {
      "text/plain": [
       "array([1])"
      ]
     },
     "execution_count": 22,
     "metadata": {},
     "output_type": "execute_result"
    }
   ],
   "source": [
    "idx = np.arange(0, len(y_train))[(y_train == 1).squeeze()]\n",
    "np.unique(y_train[idx])"
   ]
  },
  {
   "cell_type": "code",
   "execution_count": 17,
   "metadata": {},
   "outputs": [
    {
     "data": {
      "text/plain": [
       "(321,)"
      ]
     },
     "execution_count": 17,
     "metadata": {},
     "output_type": "execute_result"
    }
   ],
   "source": [
    "inan_percentage_per_column.shape"
   ]
  },
  {
   "cell_type": "code",
   "execution_count": null,
   "metadata": {},
   "outputs": [],
   "source": [
    "i"
   ]
  },
  {
   "cell_type": "code",
   "execution_count": 14,
   "metadata": {},
   "outputs": [
    {
     "data": {
      "text/plain": [
       "328135"
      ]
     },
     "execution_count": 14,
     "metadata": {},
     "output_type": "execute_result"
    }
   ],
   "source": [
    "len(x_train)"
   ]
  },
  {
   "cell_type": "code",
   "execution_count": 3,
   "metadata": {},
   "outputs": [],
   "source": [
    "y_train = np.expand_dims(y_train, 1)\n",
    "y_train = y_train.reshape((y_train.shape[0],1))"
   ]
  },
  {
   "cell_type": "code",
   "execution_count": 4,
   "metadata": {},
   "outputs": [
    {
     "name": "stdout",
     "output_type": "stream",
     "text": [
      "x_train shape:  (328135, 320)\n",
      "y_train shape:  (328135, 1)\n",
      "x_test shape:  (109379, 320)\n"
     ]
    }
   ],
   "source": [
    "print(\"x_train shape: \", x_train.shape)\n",
    "print(\"y_train shape: \", y_train.shape) \n",
    "print(\"x_test shape: \", x_test.shape)"
   ]
  },
  {
   "cell_type": "code",
   "execution_count": 5,
   "metadata": {},
   "outputs": [],
   "source": [
    "# Build train data\n",
    "\n",
    "import src.utils.constants as c\n",
    "import src.features.build_features as bf\n",
    "x_train_nonans, removed_cols = bf.build_train_features(data=x_train, percentage=c.PERCENTAGE_NAN)"
   ]
  },
  {
   "cell_type": "code",
   "execution_count": 6,
   "metadata": {},
   "outputs": [],
   "source": [
    "# PARAMETERS\n",
    "\n",
    "lambda_ = 0.1                                      # regularization parameter\n",
    "max_iters = 10                                     # max number of iterations \n",
    "threshold = 1e-8                                   # threshold for stopping criterion\n",
    "gamma = 0.4                                        # step size\n",
    "initial_w = np.zeros((x_train_nonans.shape[1], 1)) # initial weights"
   ]
  },
  {
   "cell_type": "code",
   "execution_count": 7,
   "metadata": {},
   "outputs": [
    {
     "name": "stdout",
     "output_type": "stream",
     "text": [
      "Mean squared error gradient descent: W: [[ 1.03434150e+15]\n",
      " [ 1.03434119e+15]\n",
      " [ 6.61042706e+14]\n",
      " [ 1.03434119e+15]\n",
      " [ 1.03434073e+15]\n",
      " [ 1.03422695e+15]\n",
      " [ 1.03427814e+15]\n",
      " [-1.13566882e+17]\n",
      " [-1.13566882e+17]\n",
      " [ 1.03434150e+15]\n",
      " [ 1.03434150e+15]\n",
      " [ 1.03434150e+15]\n",
      " [ 1.03434147e+15]\n",
      " [ 1.03434145e+15]\n",
      " [ 1.03434151e+15]\n",
      " [ 1.03434150e+15]\n",
      " [ 1.03434150e+15]\n",
      " [ 1.03434150e+15]\n",
      " [ 1.03434147e+15]\n",
      " [ 1.03434150e+15]\n",
      " [ 1.03434150e+15]\n",
      " [ 1.03434146e+15]\n",
      " [ 1.03434142e+15]\n",
      " [ 1.03434141e+15]\n",
      " [ 1.03433810e+15]\n",
      " [ 1.03433787e+15]\n",
      " [ 1.03433838e+15]\n",
      " [ 1.03434149e+15]\n",
      " [ 1.03434148e+15]\n",
      " [ 1.03434145e+15]\n",
      " [ 1.03434147e+15]\n",
      " [ 1.03434143e+15]\n",
      " [ 1.03434149e+15]\n",
      " [ 1.03434149e+15]\n",
      " [ 1.03434147e+15]\n",
      " [ 1.03434146e+15]\n",
      " [ 1.03434144e+15]\n",
      " [ 1.03434145e+15]\n",
      " [ 1.03434147e+15]\n",
      " [ 1.03434145e+15]\n",
      " [ 1.03434145e+15]\n",
      " [ 1.03434145e+15]\n",
      " [ 1.03434146e+15]\n",
      " [ 1.03434145e+15]\n",
      " [ 1.03434144e+15]\n",
      " [ 1.03434140e+15]\n",
      " [ 1.03433846e+15]\n",
      " [ 1.03434147e+15]\n",
      " [ 1.03434143e+15]\n",
      " [ 1.03434128e+15]\n",
      " [ 1.03434148e+15]\n",
      " [ 1.03434144e+15]\n",
      " [ 1.03434149e+15]\n",
      " [ 1.03434145e+15]\n",
      " [ 1.03434133e+15]\n",
      " [ 1.03433781e+15]\n",
      " [ 1.03434041e+15]\n",
      " [ 1.03434149e+15]\n",
      " [ 1.03429975e+15]\n",
      " [ 1.03429952e+15]\n",
      " [ 1.03434144e+15]\n",
      " [ 1.03434145e+15]\n",
      " [ 1.03434145e+15]\n",
      " [ 1.03434144e+15]\n",
      " [ 1.03434145e+15]\n",
      " [ 1.03434145e+15]\n",
      " [ 1.03434144e+15]\n",
      " [ 1.03434145e+15]\n",
      " [ 1.03434146e+15]\n",
      " [ 1.03434142e+15]\n",
      " [ 1.03434147e+15]\n",
      " [ 1.03434117e+15]\n",
      " [ 1.03434139e+15]\n",
      " [ 1.03431113e+15]\n",
      " [ 1.03434136e+15]\n",
      " [ 1.03433770e+15]\n",
      " [ 1.03434124e+15]\n",
      " [ 1.03432064e+15]\n",
      " [ 1.03432946e+15]\n",
      " [ 1.03432367e+15]\n",
      " [ 1.03432681e+15]\n",
      " [ 1.03432440e+15]\n",
      " [ 1.03432865e+15]\n",
      " [ 1.03434148e+15]\n",
      " [ 1.03433857e+15]\n",
      " [ 1.03433344e+15]\n",
      " [ 1.03433546e+15]\n",
      " [ 1.03433799e+15]\n",
      " [ 1.03433320e+15]\n",
      " [ 1.03433451e+15]\n",
      " [ 1.03430729e+15]\n",
      " [ 1.03434147e+15]\n",
      " [ 1.03434145e+15]\n",
      " [ 1.03434142e+15]\n",
      " [ 1.03434120e+15]\n",
      " [ 1.03434148e+15]\n",
      " [ 1.03434147e+15]\n",
      " [ 1.02657121e+15]\n",
      " [ 1.03434132e+15]\n",
      " [ 1.03434144e+15]\n",
      " [ 1.03434145e+15]\n",
      " [ 1.01221967e+15]\n",
      " [ 1.03434130e+15]\n",
      " [ 1.03434146e+15]\n",
      " [ 1.03434140e+15]\n",
      " [ 1.03434145e+15]\n",
      " [ 1.03434143e+15]\n",
      " [ 1.03434145e+15]\n",
      " [ 1.03434146e+15]\n",
      " [ 1.03434148e+15]\n",
      " [ 1.03434132e+15]\n",
      " [ 1.03434131e+15]\n",
      " [ 1.03434149e+15]\n",
      " [ 1.03434133e+15]\n",
      " [ 1.03434145e+15]\n",
      " [ 1.03434146e+15]\n",
      " [ 1.03434143e+15]\n",
      " [ 1.03434071e+15]\n",
      " [ 1.03434150e+15]\n",
      " [ 1.03434141e+15]\n",
      " [ 1.01721010e+15]\n",
      " [ 1.03433563e+15]\n",
      " [ 1.03434147e+15]\n",
      " [ 1.03433464e+15]\n",
      " [ 1.03434112e+15]\n",
      " [ 1.03434115e+15]\n",
      " [ 1.03434115e+15]\n",
      " [ 1.03429575e+15]\n",
      " [ 1.03434132e+15]\n",
      " [ 1.03434152e+15]\n",
      " [ 1.03430916e+15]\n",
      " [ 1.03434149e+15]\n",
      " [ 1.03434133e+15]\n",
      " [ 1.03434148e+15]\n",
      " [ 1.03434147e+15]\n",
      " [ 1.03434147e+15]\n",
      " [ 1.03434149e+15]\n",
      " [ 1.03434149e+15]\n",
      " [ 1.03434140e+15]\n",
      " [ 1.03434146e+15]\n",
      " [ 1.03434138e+15]\n",
      " [ 1.03434138e+15]\n",
      " [ 1.03434144e+15]\n",
      " [ 1.03434144e+15]\n",
      " [ 1.03434148e+15]\n",
      " [ 1.03434146e+15]\n",
      " [ 1.03434147e+15]\n",
      " [ 1.03434111e+15]\n",
      " [ 1.03434148e+15]\n",
      " [ 1.03433841e+15]\n",
      " [ 1.03434130e+15]\n",
      " [ 1.03433776e+15]\n",
      " [ 1.03434146e+15]\n",
      " [ 1.03433695e+15]\n",
      " [ 1.03433996e+15]\n",
      " [ 1.03434139e+15]\n",
      " [ 1.03434143e+15]\n",
      " [ 1.03434147e+15]\n",
      " [ 1.03434139e+15]\n",
      " [ 1.03434129e+15]\n",
      " [ 1.03434135e+15]\n",
      " [ 1.03434147e+15]\n",
      " [ 1.03434145e+15]\n",
      " [ 1.03433819e+15]\n",
      " [ 1.03434147e+15]\n",
      " [ 1.03399906e+15]\n",
      " [ 1.03434147e+15]\n",
      " [ 1.03434154e+15]\n",
      " [ 1.03434150e+15]\n",
      " [ 1.03434154e+15]\n",
      " [ 1.03434152e+15]\n",
      " [ 1.03434154e+15]\n",
      " [ 1.03434151e+15]\n",
      " [ 1.03434155e+15]\n",
      " [ 1.03434154e+15]\n",
      " [ 1.03434151e+15]\n",
      " [ 1.03434151e+15]\n",
      " [ 1.03434148e+15]\n",
      " [ 1.03434145e+15]\n",
      " [ 1.03434144e+15]\n",
      " [ 1.03434144e+15]\n",
      " [ 1.03434150e+15]\n",
      " [ 1.03434150e+15]\n",
      " [ 1.03434155e+15]\n",
      " [ 1.03434155e+15]\n",
      " [ 1.03434145e+15]\n",
      " [ 1.03434132e+15]\n",
      " [ 1.03434139e+15]\n",
      " [ 1.03433928e+15]\n",
      " [ 1.03434060e+15]\n",
      " [ 1.03434148e+15]\n",
      " [ 1.03434151e+15]\n",
      " [ 1.03433795e+15]\n",
      " [ 1.03433748e+15]\n",
      " [ 1.03434133e+15]\n",
      " [ 1.03434138e+15]\n",
      " [ 1.03432850e+15]\n",
      " [ 1.03433418e+15]\n",
      " [ 1.03434149e+15]\n",
      " [ 1.03434151e+15]\n",
      " [ 1.03432375e+15]\n",
      " [ 1.03433124e+15]\n",
      " [ 1.03431410e+15]\n",
      " [ 1.03433689e+15]\n",
      " [ 1.03433866e+15]\n",
      " [ 1.03433410e+15]\n",
      " [ 1.03434137e+15]\n",
      " [ 1.03434142e+15]\n",
      " [ 1.03434141e+15]\n",
      " [ 1.03434140e+15]\n",
      " [ 1.03434141e+15]\n",
      " [ 1.03434142e+15]\n",
      " [ 1.03434136e+15]\n",
      " [ 1.03434140e+15]\n",
      " [ 1.03434140e+15]\n",
      " [ 1.03434140e+15]\n",
      " [ 1.03434135e+15]\n",
      " [ 1.03434145e+15]\n",
      " [ 1.03434145e+15]\n",
      " [ 1.03434143e+15]\n",
      " [ 1.03434142e+15]\n",
      " [ 1.03434144e+15]], Loss:2.8892713847087926e+36\n",
      "RMSE train: 2.4038599729222134e+18\n"
     ]
    }
   ],
   "source": [
    "# Mean squared error gradient descent\n",
    "w_mean_squared_error_gd, loss_mean_squared_error_gd = impl.mean_squared_error_gd(y_train, x_train_nonans, initial_w, max_iters, gamma)\n",
    "\n",
    "rmse_tr = np.sqrt(2 * loss_mean_squared_error_gd)\n",
    "\n",
    "print(\"Mean squared error gradient descent: W: {w}, Loss:{loss}\".format(w=w_mean_squared_error_gd, loss=loss_mean_squared_error_gd))\n",
    "print(\"RMSE train: {rmse_tr}\".format(rmse_tr=rmse_tr))"
   ]
  },
  {
   "cell_type": "code",
   "execution_count": 8,
   "metadata": {},
   "outputs": [],
   "source": [
    "# Mean squared error stochastic gradient descent\n",
    "w_mean_squared_error_sgd, loss_mean_squared_error_sgd = impl.mean_squared_error_sgd(y_train, x_train_nonans, initial_w, max_iters, gamma)\n",
    "\n",
    "rmse_tr = np.sqrt(2 * loss_mean_squared_error_sgd)\n",
    "\n",
    "print(\"Mean squared error stochastic gradient descent: W: {w}, Loss:{loss}\".format(w=w_mean_squared_error_sgd, loss=loss_mean_squared_error_sgd))\n",
    "print(\"RMSE train: {rmse_tr}\".format(rmse_tr=rmse_tr))"
   ]
  },
  {
   "cell_type": "code",
   "execution_count": null,
   "metadata": {},
   "outputs": [],
   "source": [
    "# Test Least Squares Regression using Normal Equations\n",
    "\n",
    "w_least_squares, loss_least_squares = impl.least_squares(y_train, x_train_nonans)\n",
    "\n",
    "rmse_tr = np.sqrt(2 * loss_least_squares)\n",
    "\n",
    "print(\"Least squares: W: {w}, Loss:{loss}\".format(w=w_least_squares, loss=loss_least_squares))\n",
    "print(\"RMSE train: {rmse_tr}\".format(rmse_tr=rmse_tr))"
   ]
  },
  {
   "cell_type": "code",
   "execution_count": null,
   "metadata": {},
   "outputs": [],
   "source": [
    "# Test Ridge Regression using Normal Equations\n",
    "\n",
    "w_ridge_regression, loss_ridge_regression = impl.ridge_regression(y_train, x_train_nonans, lambda_)\n",
    "\n",
    "rmse_tr = np.sqrt(2 * loss_ridge_regression)\n",
    "\n",
    "print(\"Ridge regression: W: {w}, Loss:{loss}\".format(w=w_ridge_regression, loss=loss_ridge_regression))\n",
    "print(\"RMSE train: {rmse_tr}\".format(rmse_tr=rmse_tr))"
   ]
  },
  {
   "cell_type": "code",
   "execution_count": null,
   "metadata": {},
   "outputs": [
    {
     "name": "stdout",
     "output_type": "stream",
     "text": [
      "Logistic regression: W: [[ 0.01982394]\n",
      " [ 0.01982394]\n",
      " [ 0.01278254]\n",
      " [ 0.01982394]\n",
      " [ 0.01982393]\n",
      " [ 0.01982175]\n",
      " [ 0.01982272]\n",
      " [-2.17659702]\n",
      " [-2.17659702]\n",
      " [ 0.01982394]\n",
      " [ 0.01982394]\n",
      " [ 0.01982394]\n",
      " [ 0.01982394]\n",
      " [ 0.01982394]\n",
      " [ 0.01982394]\n",
      " [ 0.01982394]\n",
      " [ 0.01982394]\n",
      " [ 0.01982394]\n",
      " [ 0.01982394]\n",
      " [ 0.01982394]\n",
      " [ 0.01982394]\n",
      " [ 0.01982394]\n",
      " [ 0.01982394]\n",
      " [ 0.01982394]\n",
      " [ 0.01982386]\n",
      " [ 0.01982387]\n",
      " [ 0.01982388]\n",
      " [ 0.01982394]\n",
      " [ 0.01982394]\n",
      " [ 0.01982394]\n",
      " [ 0.01982394]\n",
      " [ 0.01982394]\n",
      " [ 0.01982394]\n",
      " [ 0.01982394]\n",
      " [ 0.01982394]\n",
      " [ 0.01982394]\n",
      " [ 0.01982394]\n",
      " [ 0.01982394]\n",
      " [ 0.01982394]\n",
      " [ 0.01982394]\n",
      " [ 0.01982394]\n",
      " [ 0.01982394]\n",
      " [ 0.01982394]\n",
      " [ 0.01982394]\n",
      " [ 0.01982394]\n",
      " [ 0.01982394]\n",
      " [ 0.01982389]\n",
      " [ 0.01982394]\n",
      " [ 0.01982394]\n",
      " [ 0.01982394]\n",
      " [ 0.01982394]\n",
      " [ 0.01982394]\n",
      " [ 0.01982394]\n",
      " [ 0.01982394]\n",
      " [ 0.01982394]\n",
      " [ 0.0198239 ]\n",
      " [ 0.01982392]\n",
      " [ 0.01982394]\n",
      " [ 0.01982282]\n",
      " [ 0.01982302]\n",
      " [ 0.01982394]\n",
      " [ 0.01982394]\n",
      " [ 0.01982394]\n",
      " [ 0.01982394]\n",
      " [ 0.01982394]\n",
      " [ 0.01982394]\n",
      " [ 0.01982394]\n",
      " [ 0.01982394]\n",
      " [ 0.01982394]\n",
      " [ 0.01982394]\n",
      " [ 0.01982394]\n",
      " [ 0.01982394]\n",
      " [ 0.01982394]\n",
      " [ 0.01982354]\n",
      " [ 0.01982394]\n",
      " [ 0.01982387]\n",
      " [ 0.01982394]\n",
      " [ 0.01982354]\n",
      " [ 0.01982373]\n",
      " [ 0.01982362]\n",
      " [ 0.0198237 ]\n",
      " [ 0.01982363]\n",
      " [ 0.01982371]\n",
      " [ 0.01982394]\n",
      " [ 0.01982389]\n",
      " [ 0.0198238 ]\n",
      " [ 0.01982383]\n",
      " [ 0.01982388]\n",
      " [ 0.01982379]\n",
      " [ 0.01982382]\n",
      " [ 0.01982342]\n",
      " [ 0.01982394]\n",
      " [ 0.01982394]\n",
      " [ 0.01982394]\n",
      " [ 0.01982394]\n",
      " [ 0.01982394]\n",
      " [ 0.01982394]\n",
      " [ 0.01967827]\n",
      " [ 0.01982394]\n",
      " [ 0.01982394]\n",
      " [ 0.01982394]\n",
      " [ 0.0194226 ]\n",
      " [ 0.01982394]\n",
      " [ 0.01982394]\n",
      " [ 0.01982394]\n",
      " [ 0.01982394]\n",
      " [ 0.01982394]\n",
      " [ 0.01982394]\n",
      " [ 0.01982394]\n",
      " [ 0.01982394]\n",
      " [ 0.01982394]\n",
      " [ 0.01982394]\n",
      " [ 0.01982394]\n",
      " [ 0.01982394]\n",
      " [ 0.01982394]\n",
      " [ 0.01982394]\n",
      " [ 0.01982394]\n",
      " [ 0.01982393]\n",
      " [ 0.01982394]\n",
      " [ 0.01982394]\n",
      " [ 0.01950076]\n",
      " [ 0.01982379]\n",
      " [ 0.01982394]\n",
      " [ 0.01982377]\n",
      " [ 0.01982394]\n",
      " [ 0.01982394]\n",
      " [ 0.01982394]\n",
      " [ 0.01982306]\n",
      " [ 0.01982394]\n",
      " [ 0.01982394]\n",
      " [ 0.01982304]\n",
      " [ 0.01982394]\n",
      " [ 0.01982394]\n",
      " [ 0.01982394]\n",
      " [ 0.01982394]\n",
      " [ 0.01982394]\n",
      " [ 0.01982394]\n",
      " [ 0.01982394]\n",
      " [ 0.01982394]\n",
      " [ 0.01982394]\n",
      " [ 0.01982394]\n",
      " [ 0.01982394]\n",
      " [ 0.01982394]\n",
      " [ 0.01982394]\n",
      " [ 0.01982394]\n",
      " [ 0.01982394]\n",
      " [ 0.01982394]\n",
      " [ 0.01982394]\n",
      " [ 0.01982394]\n",
      " [ 0.01982391]\n",
      " [ 0.01982394]\n",
      " [ 0.01982387]\n",
      " [ 0.01982394]\n",
      " [ 0.01982386]\n",
      " [ 0.01982392]\n",
      " [ 0.01982394]\n",
      " [ 0.01982394]\n",
      " [ 0.01982394]\n",
      " [ 0.01982394]\n",
      " [ 0.01982394]\n",
      " [ 0.01982394]\n",
      " [ 0.01982394]\n",
      " [ 0.01982394]\n",
      " [ 0.01982387]\n",
      " [ 0.01982394]\n",
      " [ 0.01981619]\n",
      " [ 0.01982394]\n",
      " [ 0.01982394]\n",
      " [ 0.01982394]\n",
      " [ 0.01982394]\n",
      " [ 0.01982394]\n",
      " [ 0.01982394]\n",
      " [ 0.01982394]\n",
      " [ 0.01982394]\n",
      " [ 0.01982394]\n",
      " [ 0.01982394]\n",
      " [ 0.01982394]\n",
      " [ 0.01982394]\n",
      " [ 0.01982394]\n",
      " [ 0.01982394]\n",
      " [ 0.01982394]\n",
      " [ 0.01982394]\n",
      " [ 0.01982394]\n",
      " [ 0.01982394]\n",
      " [ 0.01982394]\n",
      " [ 0.01982394]\n",
      " [ 0.01982394]\n",
      " [ 0.01982394]\n",
      " [ 0.01982388]\n",
      " [ 0.01982392]\n",
      " [ 0.01982394]\n",
      " [ 0.01982394]\n",
      " [ 0.01982387]\n",
      " [ 0.01982387]\n",
      " [ 0.01982394]\n",
      " [ 0.01982394]\n",
      " [ 0.0198237 ]\n",
      " [ 0.01982381]\n",
      " [ 0.01982394]\n",
      " [ 0.01982394]\n",
      " [ 0.01982366]\n",
      " [ 0.01982378]\n",
      " [ 0.0198235 ]\n",
      " [ 0.0198239 ]\n",
      " [ 0.01982392]\n",
      " [ 0.01982387]\n",
      " [ 0.01982394]\n",
      " [ 0.01982394]\n",
      " [ 0.01982394]\n",
      " [ 0.01982394]\n",
      " [ 0.01982394]\n",
      " [ 0.01982394]\n",
      " [ 0.01982394]\n",
      " [ 0.01982394]\n",
      " [ 0.01982394]\n",
      " [ 0.01982394]\n",
      " [ 0.01982394]\n",
      " [ 0.01982394]\n",
      " [ 0.01982394]\n",
      " [ 0.01982394]\n",
      " [ 0.01982394]\n",
      " [ 0.01982394]], Loss:4.068237274099001\n",
      "RMSE train: 2.852450621517926\n"
     ]
    }
   ],
   "source": [
    "# Test Logistic Regression using gd\n",
    "\n",
    "w_log_regression, loss_log_regression = impl.logistic_regression(y_train, x_train_nonans, initial_w, max_iters, gamma)\n",
    "\n",
    "rmse_tr = np.sqrt(2 * loss_log_regression)\n",
    "\n",
    "print(\"Logistic regression: W: {w}, Loss:{loss}\".format(w=w_log_regression, loss=loss_log_regression))\n",
    "print(\"RMSE train: {rmse_tr}\".format(rmse_tr=rmse_tr))"
   ]
  },
  {
   "cell_type": "code",
   "execution_count": null,
   "metadata": {},
   "outputs": [],
   "source": [
    "# Test Regularized Logistic Regression using gd\n",
    "\n",
    "w_reg_log_regression, loss_reg_log_regression = impl.reg_logistic_regression(y_train, x_train_nonans, lambda_, initial_w, max_iters, gamma)\n",
    "\n",
    "rmse_tr = np.sqrt(2 * loss_reg_log_regression)\n",
    "\n",
    "print(\"Logistic regression: W: {w}, Loss:{loss}\".format(w=w_reg_log_regression, loss=loss_reg_log_regression))\n",
    "print(\"RMSE train: {rmse_tr}\".format(rmse_tr=rmse_tr))"
   ]
  },
  {
   "cell_type": "code",
   "execution_count": null,
   "metadata": {},
   "outputs": [
    {
     "name": "stdout",
     "output_type": "stream",
     "text": [
      "Accuracy: 0.0, F1: 0.0, W: [[ 0.00759127]\n",
      " [ 0.00759127]\n",
      " [ 0.00493151]\n",
      " [ 0.00759127]\n",
      " [ 0.00759126]\n",
      " [ 0.00759043]\n",
      " [ 0.0075908 ]\n",
      " [-0.8334944 ]\n",
      " [-0.8334944 ]\n",
      " [ 0.00759127]\n",
      " [ 0.00759127]\n",
      " [ 0.00759127]\n",
      " [ 0.00759127]\n",
      " [ 0.00759127]\n",
      " [ 0.00759127]\n",
      " [ 0.00759127]\n",
      " [ 0.00759127]\n",
      " [ 0.00759127]\n",
      " [ 0.00759127]\n",
      " [ 0.00759127]\n",
      " [ 0.00759127]\n",
      " [ 0.00759127]\n",
      " [ 0.00759127]\n",
      " [ 0.00759127]\n",
      " [ 0.00759123]\n",
      " [ 0.00759124]\n",
      " [ 0.00759124]\n",
      " [ 0.00759127]\n",
      " [ 0.00759127]\n",
      " [ 0.00759127]\n",
      " [ 0.00759127]\n",
      " [ 0.00759127]\n",
      " [ 0.00759127]\n",
      " [ 0.00759127]\n",
      " [ 0.00759127]\n",
      " [ 0.00759127]\n",
      " [ 0.00759127]\n",
      " [ 0.00759127]\n",
      " [ 0.00759127]\n",
      " [ 0.00759127]\n",
      " [ 0.00759127]\n",
      " [ 0.00759127]\n",
      " [ 0.00759127]\n",
      " [ 0.00759127]\n",
      " [ 0.00759127]\n",
      " [ 0.00759127]\n",
      " [ 0.00759125]\n",
      " [ 0.00759127]\n",
      " [ 0.00759127]\n",
      " [ 0.00759127]\n",
      " [ 0.00759127]\n",
      " [ 0.00759127]\n",
      " [ 0.00759127]\n",
      " [ 0.00759127]\n",
      " [ 0.00759127]\n",
      " [ 0.00759126]\n",
      " [ 0.00759126]\n",
      " [ 0.00759127]\n",
      " [ 0.00759074]\n",
      " [ 0.00759088]\n",
      " [ 0.00759127]\n",
      " [ 0.00759127]\n",
      " [ 0.00759127]\n",
      " [ 0.00759127]\n",
      " [ 0.00759127]\n",
      " [ 0.00759127]\n",
      " [ 0.00759127]\n",
      " [ 0.00759127]\n",
      " [ 0.00759127]\n",
      " [ 0.00759127]\n",
      " [ 0.00759127]\n",
      " [ 0.00759127]\n",
      " [ 0.00759127]\n",
      " [ 0.00759117]\n",
      " [ 0.00759127]\n",
      " [ 0.00759125]\n",
      " [ 0.00759127]\n",
      " [ 0.00759112]\n",
      " [ 0.0075912 ]\n",
      " [ 0.00759115]\n",
      " [ 0.00759119]\n",
      " [ 0.00759116]\n",
      " [ 0.00759119]\n",
      " [ 0.00759127]\n",
      " [ 0.00759125]\n",
      " [ 0.00759122]\n",
      " [ 0.00759123]\n",
      " [ 0.00759125]\n",
      " [ 0.00759121]\n",
      " [ 0.00759123]\n",
      " [ 0.00759111]\n",
      " [ 0.00759127]\n",
      " [ 0.00759127]\n",
      " [ 0.00759127]\n",
      " [ 0.00759127]\n",
      " [ 0.00759127]\n",
      " [ 0.00759127]\n",
      " [ 0.00753654]\n",
      " [ 0.00759127]\n",
      " [ 0.00759127]\n",
      " [ 0.00759127]\n",
      " [ 0.00744492]\n",
      " [ 0.00759127]\n",
      " [ 0.00759127]\n",
      " [ 0.00759127]\n",
      " [ 0.00759127]\n",
      " [ 0.00759127]\n",
      " [ 0.00759127]\n",
      " [ 0.00759127]\n",
      " [ 0.00759127]\n",
      " [ 0.00759127]\n",
      " [ 0.00759127]\n",
      " [ 0.00759127]\n",
      " [ 0.00759127]\n",
      " [ 0.00759127]\n",
      " [ 0.00759127]\n",
      " [ 0.00759127]\n",
      " [ 0.00759126]\n",
      " [ 0.00759127]\n",
      " [ 0.00759127]\n",
      " [ 0.00746918]\n",
      " [ 0.0075912 ]\n",
      " [ 0.00759127]\n",
      " [ 0.00759119]\n",
      " [ 0.00759127]\n",
      " [ 0.00759127]\n",
      " [ 0.00759127]\n",
      " [ 0.00759093]\n",
      " [ 0.00759127]\n",
      " [ 0.00759127]\n",
      " [ 0.00759083]\n",
      " [ 0.00759127]\n",
      " [ 0.00759127]\n",
      " [ 0.00759127]\n",
      " [ 0.00759127]\n",
      " [ 0.00759127]\n",
      " [ 0.00759127]\n",
      " [ 0.00759127]\n",
      " [ 0.00759127]\n",
      " [ 0.00759127]\n",
      " [ 0.00759127]\n",
      " [ 0.00759127]\n",
      " [ 0.00759127]\n",
      " [ 0.00759127]\n",
      " [ 0.00759127]\n",
      " [ 0.00759127]\n",
      " [ 0.00759127]\n",
      " [ 0.00759127]\n",
      " [ 0.00759127]\n",
      " [ 0.00759126]\n",
      " [ 0.00759127]\n",
      " [ 0.00759124]\n",
      " [ 0.00759127]\n",
      " [ 0.00759124]\n",
      " [ 0.00759126]\n",
      " [ 0.00759127]\n",
      " [ 0.00759127]\n",
      " [ 0.00759127]\n",
      " [ 0.00759127]\n",
      " [ 0.00759127]\n",
      " [ 0.00759127]\n",
      " [ 0.00759127]\n",
      " [ 0.00759127]\n",
      " [ 0.00759124]\n",
      " [ 0.00759127]\n",
      " [ 0.00758792]\n",
      " [ 0.00759127]\n",
      " [ 0.00759127]\n",
      " [ 0.00759127]\n",
      " [ 0.00759127]\n",
      " [ 0.00759127]\n",
      " [ 0.00759127]\n",
      " [ 0.00759127]\n",
      " [ 0.00759127]\n",
      " [ 0.00759127]\n",
      " [ 0.00759127]\n",
      " [ 0.00759127]\n",
      " [ 0.00759127]\n",
      " [ 0.00759127]\n",
      " [ 0.00759127]\n",
      " [ 0.00759127]\n",
      " [ 0.00759127]\n",
      " [ 0.00759127]\n",
      " [ 0.00759127]\n",
      " [ 0.00759127]\n",
      " [ 0.00759127]\n",
      " [ 0.00759127]\n",
      " [ 0.00759127]\n",
      " [ 0.00759124]\n",
      " [ 0.00759126]\n",
      " [ 0.00759127]\n",
      " [ 0.00759127]\n",
      " [ 0.00759124]\n",
      " [ 0.00759124]\n",
      " [ 0.00759127]\n",
      " [ 0.00759127]\n",
      " [ 0.00759118]\n",
      " [ 0.00759122]\n",
      " [ 0.00759127]\n",
      " [ 0.00759127]\n",
      " [ 0.00759118]\n",
      " [ 0.00759122]\n",
      " [ 0.00759113]\n",
      " [ 0.00759127]\n",
      " [ 0.00759127]\n",
      " [ 0.00759127]\n",
      " [ 0.00759127]\n",
      " [ 0.00759127]\n",
      " [ 0.00759127]\n",
      " [ 0.00759127]\n",
      " [ 0.00759127]\n",
      " [ 0.00759127]\n",
      " [ 0.00759127]\n",
      " [ 0.00759127]\n",
      " [ 0.00759127]\n",
      " [ 0.00759127]\n",
      " [ 0.00759127]\n",
      " [ 0.00759127]\n",
      " [ 0.00759127]\n",
      " [ 0.00759127]\n",
      " [ 0.00759127]\n",
      " [ 0.00759127]]\n"
     ]
    }
   ],
   "source": [
    "# Cross validation\n",
    "\n",
    "import src.model.Models as model\n",
    "import src.model.train_model as tm\n",
    "\n",
    "kwargs = {\n",
    "    \"lambda_\": lambda_,\n",
    "    \"initial_w\": initial_w,\n",
    "    \"max_iters\": max_iters,\n",
    "    \"gamma\": gamma,\n",
    "}\n",
    "\n",
    "accuracy, f1, w = tm.run_cross_validation(\n",
    "    x=x_train_nonans,\n",
    "    y=y_train,\n",
    "    k=6,\n",
    "    algorithm=impl.reg_logistic_regression,\n",
    "    model=model.Models.LOGISTIC,\n",
    "    **kwargs,\n",
    ")\n",
    "\n",
    "print(\"Accuracy: {accuracy}, F1: {f1}, W: {w}\".format(accuracy=accuracy, f1=f1, w=w))"
   ]
  },
  {
   "cell_type": "code",
   "execution_count": null,
   "metadata": {},
   "outputs": [],
   "source": [
    "# Create submission\n",
    "\n",
    "import src.utils.functions as utils\n",
    "\n",
    "utils.create_submission(\n",
    "    x_test=x_test,\n",
    "    w=w_log_regression,\n",
    "    removed_cols=removed_cols,\n",
    "    model=model.Models.LOGISTIC,\n",
    "    filename=\"submission.csv\"\n",
    ")"
   ]
  },
  {
   "cell_type": "code",
   "execution_count": null,
   "metadata": {},
   "outputs": [],
   "source": [
    "# Quick check on positive/negative predictions\n",
    "\n",
    "import os\n",
    "\n",
    "pred = np.genfromtxt(\n",
    "    os.path.join(c.MODELS_PATH, \"sub.csv\"), delimiter=\",\", skip_header=1\n",
    ")\n",
    "pred = pred[:, 1]\n",
    "\n",
    "print(\"Positive predictions: \", np.sum(pred == 1))\n",
    "print(\"Negative predictions: \", np.sum(pred == -1))"
   ]
  },
  {
   "cell_type": "code",
   "execution_count": 3,
   "metadata": {},
   "outputs": [],
   "source": [
    "import numpy as np"
   ]
  },
  {
   "cell_type": "code",
   "execution_count": 27,
   "metadata": {},
   "outputs": [],
   "source": [
    "w = np.array([[8.76522923],\n",
    "       [0.86506734],\n",
    "       [5.69235577],\n",
    "       [4.33171251],\n",
    "       [3.56426327],\n",
    "       [9.8141147 ],\n",
    "       [1.42076856],\n",
    "       [5.41672089],\n",
    "       [2.93616034],\n",
    "       [7.39168897],\n",
    "       [5.53130168],\n",
    "       [9.82754835],\n",
    "       [1.97734141],\n",
    "       [3.78287525],\n",
    "       [0.65237145],\n",
    "       [0.13710305],\n",
    "       [2.90800657],\n",
    "       [9.96409967],\n",
    "       [7.98175337],\n",
    "       [5.70097142],\n",
    "       [8.56948365],\n",
    "       [2.82828561],\n",
    "       [1.12338554],\n",
    "       [8.10651067],\n",
    "       [1.37055858],\n",
    "       [5.54624572],\n",
    "       [2.53943355],\n",
    "       [3.1920503 ],\n",
    "       [3.41832204],\n",
    "       [6.8935059 ],\n",
    "       [5.85126498],\n",
    "       [2.91798474],\n",
    "       [8.13160312],\n",
    "       [3.4426894 ],\n",
    "       [7.26558804],\n",
    "       [8.92256591],\n",
    "       [5.72854855],\n",
    "       [5.27802669],\n",
    "       [6.82467101],\n",
    "       [1.40398676],\n",
    "       [3.39746044],\n",
    "       [3.45004313],\n",
    "       [0.40030662],\n",
    "       [6.79904335],\n",
    "       [1.62727657],\n",
    "       [5.63123945],\n",
    "       [3.74247369],\n",
    "       [1.43584992],\n",
    "       [7.22515206],\n",
    "       [2.75877868],\n",
    "       [3.96891011],\n",
    "       [3.37321863],\n",
    "       [8.86029401],\n",
    "       [8.67672726],\n",
    "       [1.86298163],\n",
    "       [8.585368  ],\n",
    "       [7.85983762],\n",
    "       [6.91132909],\n",
    "       [0.36194779],\n",
    "       [8.26831289],\n",
    "       [6.48110822],\n",
    "       [8.93858705],\n",
    "       [3.60878804],\n",
    "       [0.89885582],\n",
    "       [3.2461084 ],\n",
    "       [0.45960857],\n",
    "       [5.36864282],\n",
    "       [4.77796986],\n",
    "       [5.49690253],\n",
    "       [4.81025751],\n",
    "       [6.67499121],\n",
    "       [4.45435195],\n",
    "       [5.60915116],\n",
    "       [9.62041904],\n",
    "       [9.12182561],\n",
    "       [2.91895513],\n",
    "       [7.42770924],\n",
    "       [4.24318136],\n",
    "       [8.0346902 ],\n",
    "       [5.16701967],\n",
    "       [1.08866948],\n",
    "       [7.96879175],\n",
    "       [4.09238746],\n",
    "       [1.17246777],\n",
    "       [9.63464856],\n",
    "       [9.02396643],\n",
    "       [6.83633022],\n",
    "       [9.81462457],\n",
    "       [8.75379981],\n",
    "       [5.01339949],\n",
    "       [6.9646969 ],\n",
    "       [9.8946318 ],\n",
    "       [7.37295463],\n",
    "       [2.05017762],\n",
    "       [9.98184123],\n",
    "       [9.66883884],\n",
    "       [1.38187431],\n",
    "       [5.09679218],\n",
    "       [9.11643777],\n",
    "       [1.71020418],\n",
    "       [5.10697642],\n",
    "       [8.81908777],\n",
    "       [9.6562305 ],\n",
    "       [3.78478312],\n",
    "       [2.29250509],\n",
    "       [3.86207739],\n",
    "       [1.57588948],\n",
    "       [1.84220767],\n",
    "       [5.0517278 ],\n",
    "       [1.44571291],\n",
    "       [2.83932104],\n",
    "       [8.13162607],\n",
    "       [1.42438573],\n",
    "       [3.26628925],\n",
    "       [7.54787891],\n",
    "       [5.70053811],\n",
    "       [3.81280707],\n",
    "       [8.69678286],\n",
    "       [7.07482599],\n",
    "       [8.49156119],\n",
    "       [9.09946185],\n",
    "       [5.69752866],\n",
    "       [8.22124443],\n",
    "       [9.33340036],\n",
    "       [2.42326257],\n",
    "       [8.50170661],\n",
    "       [4.59635767],\n",
    "       [6.58598193],\n",
    "       [5.79969122],\n",
    "       [8.98965905],\n",
    "       [4.31062739],\n",
    "       [6.42821417],\n",
    "       [9.02884641]])\n",
    "     "
   ]
  },
  {
   "cell_type": "code",
   "execution_count": 28,
   "metadata": {},
   "outputs": [
    {
     "data": {
      "text/plain": [
       "(133, 1)"
      ]
     },
     "execution_count": 28,
     "metadata": {},
     "output_type": "execute_result"
    }
   ],
   "source": [
    "w.shape"
   ]
  },
  {
   "cell_type": "code",
   "execution_count": 54,
   "metadata": {},
   "outputs": [],
   "source": [
    "import src.features.build_features as bf\n",
    "import src.utils.constants as c\n",
    "\n",
    "x_train_standardized, y, calculated_cols_idxs, more_than_nan_idxs = bf.build_train_features(\n",
    "    x=x_train,\n",
    "    y=y_train,\n",
    "    percentage=75,\n",
    "    fill_nans=\"random\",\n",
    "    balance=True,\n",
    "    balance_scale=1\n",
    ")"
   ]
  },
  {
   "cell_type": "code",
   "execution_count": 55,
   "metadata": {},
   "outputs": [],
   "source": [
    "x_test_std = bf.build_test_features(\n",
    "    x=x_test,\n",
    "    idx_calc_columns=calculated_cols_idxs,\n",
    "    idx_nan_percent=more_than_nan_idxs\n",
    ")"
   ]
  },
  {
   "cell_type": "code",
   "execution_count": 57,
   "metadata": {},
   "outputs": [],
   "source": [
    "import src.model.predict_model as pm\n",
    "\n",
    "y_pred = pm.compute_predictions_linear(x_train_standardized, w)"
   ]
  },
  {
   "cell_type": "code",
   "execution_count": 58,
   "metadata": {},
   "outputs": [
    {
     "data": {
      "text/plain": [
       "(array([52821.,     0.,     0.,     0.,     0.,     0.,     0.,     0.,\n",
       "            0.,     0.,     0.,     0.,     0.,     0.,     0.,     0.,\n",
       "            0.,     0.,     0.,     0.,     0.,     0.,     0.,     0.,\n",
       "            0.,     0.,     0.,     0.,     0.,     0.,     0.,     0.,\n",
       "            0.,     0.,     0.,     0.,     0.,     0.,     0.,     0.,\n",
       "            0.,     0.,     0.,     0.,     0.,     0.,     0.,     0.,\n",
       "            0.,     0.,     0.,     0.,     0.,     0.,     0.,     0.,\n",
       "            0.,     0.,     0.,     0.,     0.,     0.,     0.,     0.,\n",
       "            0.,     0.,     0.,     0.,     0.,     0.,     0.,     0.,\n",
       "            0.,     0.,     0.,     0.,     0.,     0.,     0.,     0.,\n",
       "            0.,     0.,     0.,     0.,     0.,     0.,     0.,     0.,\n",
       "            0.,     0.,     0.,     0.,     0.,     0.,     0.,     0.,\n",
       "            0.,     0.,     0.,  5129.]),\n",
       " array([-1.  , -0.98, -0.96, -0.94, -0.92, -0.9 , -0.88, -0.86, -0.84,\n",
       "        -0.82, -0.8 , -0.78, -0.76, -0.74, -0.72, -0.7 , -0.68, -0.66,\n",
       "        -0.64, -0.62, -0.6 , -0.58, -0.56, -0.54, -0.52, -0.5 , -0.48,\n",
       "        -0.46, -0.44, -0.42, -0.4 , -0.38, -0.36, -0.34, -0.32, -0.3 ,\n",
       "        -0.28, -0.26, -0.24, -0.22, -0.2 , -0.18, -0.16, -0.14, -0.12,\n",
       "        -0.1 , -0.08, -0.06, -0.04, -0.02,  0.  ,  0.02,  0.04,  0.06,\n",
       "         0.08,  0.1 ,  0.12,  0.14,  0.16,  0.18,  0.2 ,  0.22,  0.24,\n",
       "         0.26,  0.28,  0.3 ,  0.32,  0.34,  0.36,  0.38,  0.4 ,  0.42,\n",
       "         0.44,  0.46,  0.48,  0.5 ,  0.52,  0.54,  0.56,  0.58,  0.6 ,\n",
       "         0.62,  0.64,  0.66,  0.68,  0.7 ,  0.72,  0.74,  0.76,  0.78,\n",
       "         0.8 ,  0.82,  0.84,  0.86,  0.88,  0.9 ,  0.92,  0.94,  0.96,\n",
       "         0.98,  1.  ]),\n",
       " <BarContainer object of 100 artists>)"
      ]
     },
     "execution_count": 58,
     "metadata": {},
     "output_type": "execute_result"
    },
    {
     "data": {
      "image/png": "[encoded data removed]",
      "text/plain": [
       "<Figure size 640x480 with 1 Axes>"
      ]
     },
     "metadata": {},
     "output_type": "display_data"
    }
   ],
   "source": [
    "import matplotlib.pyplot as plt\n",
    "\n",
    "plt.hist(y_pred, bins=100)"
   ]
  },
  {
   "cell_type": "code",
   "execution_count": 36,
   "metadata": {},
   "outputs": [],
   "source": [
    "from src.model.Models import Models"
   ]
  },
  {
   "cell_type": "code",
   "execution_count": 38,
   "metadata": {},
   "outputs": [
    {
     "data": {
      "text/plain": [
       "<Models.LINEAR: 'linear'>"
      ]
     },
     "execution_count": 38,
     "metadata": {},
     "output_type": "execute_result"
    }
   ],
   "source": [
    "Models.LINEAR"
   ]
  },
  {
   "cell_type": "code",
   "execution_count": 59,
   "metadata": {},
   "outputs": [],
   "source": [
    "import src.utils.functions as utilsf\n",
    "\n",
    "utilsf.create_submission(\n",
    "    x=x_test,\n",
    "    ids=test_ids,\n",
    "    w=w,\n",
    "    model=Models.LINEAR,\n",
    "    idx_calc_columns=calculated_cols_idxs,\n",
    "    idx_nan_percent=more_than_nan_idxs,\n",
    "    fill_nans=\"random\",\n",
    "    filename=\"submission.csv\"\n",
    ")"
   ]
  },
  {
   "cell_type": "code",
   "execution_count": 60,
   "metadata": {},
   "outputs": [],
   "source": [
    "import os\n",
    "\n",
    "y_test = np.genfromtxt(\n",
    "    os.path.join(\"./models\", \"submission.csv\"),\n",
    "    delimiter=\",\",\n",
    "    skip_header=1,\n",
    "    dtype=int,\n",
    "    usecols=1,\n",
    ")"
   ]
  },
  {
   "cell_type": "code",
   "execution_count": 61,
   "metadata": {},
   "outputs": [
    {
     "data": {
      "text/plain": [
       "(109379,)"
      ]
     },
     "execution_count": 61,
     "metadata": {},
     "output_type": "execute_result"
    }
   ],
   "source": [
    "y_test.shape"
   ]
  },
  {
   "cell_type": "code",
   "execution_count": 62,
   "metadata": {},
   "outputs": [
    {
     "data": {
      "text/plain": [
       "(array([99348.,     0.,     0.,     0.,     0.,     0.,     0.,     0.,\n",
       "            0.,     0.,     0.,     0.,     0.,     0.,     0.,     0.,\n",
       "            0.,     0.,     0.,     0.,     0.,     0.,     0.,     0.,\n",
       "            0.,     0.,     0.,     0.,     0.,     0.,     0.,     0.,\n",
       "            0.,     0.,     0.,     0.,     0.,     0.,     0.,     0.,\n",
       "            0.,     0.,     0.,     0.,     0.,     0.,     0.,     0.,\n",
       "            0.,     0.,     0.,     0.,     0.,     0.,     0.,     0.,\n",
       "            0.,     0.,     0.,     0.,     0.,     0.,     0.,     0.,\n",
       "            0.,     0.,     0.,     0.,     0.,     0.,     0.,     0.,\n",
       "            0.,     0.,     0.,     0.,     0.,     0.,     0.,     0.,\n",
       "            0.,     0.,     0.,     0.,     0.,     0.,     0.,     0.,\n",
       "            0.,     0.,     0.,     0.,     0.,     0.,     0.,     0.,\n",
       "            0.,     0.,     0., 10031.]),\n",
       " array([-1.  , -0.98, -0.96, -0.94, -0.92, -0.9 , -0.88, -0.86, -0.84,\n",
       "        -0.82, -0.8 , -0.78, -0.76, -0.74, -0.72, -0.7 , -0.68, -0.66,\n",
       "        -0.64, -0.62, -0.6 , -0.58, -0.56, -0.54, -0.52, -0.5 , -0.48,\n",
       "        -0.46, -0.44, -0.42, -0.4 , -0.38, -0.36, -0.34, -0.32, -0.3 ,\n",
       "        -0.28, -0.26, -0.24, -0.22, -0.2 , -0.18, -0.16, -0.14, -0.12,\n",
       "        -0.1 , -0.08, -0.06, -0.04, -0.02,  0.  ,  0.02,  0.04,  0.06,\n",
       "         0.08,  0.1 ,  0.12,  0.14,  0.16,  0.18,  0.2 ,  0.22,  0.24,\n",
       "         0.26,  0.28,  0.3 ,  0.32,  0.34,  0.36,  0.38,  0.4 ,  0.42,\n",
       "         0.44,  0.46,  0.48,  0.5 ,  0.52,  0.54,  0.56,  0.58,  0.6 ,\n",
       "         0.62,  0.64,  0.66,  0.68,  0.7 ,  0.72,  0.74,  0.76,  0.78,\n",
       "         0.8 ,  0.82,  0.84,  0.86,  0.88,  0.9 ,  0.92,  0.94,  0.96,\n",
       "         0.98,  1.  ]),\n",
       " <BarContainer object of 100 artists>)"
      ]
     },
     "execution_count": 62,
     "metadata": {},
     "output_type": "execute_result"
    },
    {
     "data": {
      "image/png": "[encoded data removed]",
      "text/plain": [
       "<Figure size 640x480 with 1 Axes>"
      ]
     },
     "metadata": {},
     "output_type": "display_data"
    }
   ],
   "source": [
    "plt.hist(y_test, bins=100)"
   ]
  },
  {
   "cell_type": "code",
   "execution_count": 64,
   "metadata": {},
   "outputs": [],
   "source": [
    "test_idx_2 = np.genfromtxt(\n",
    "    os.path.join(\"./models\", \"submission.csv\"),\n",
    "    delimiter=\",\",\n",
    "    skip_header=1,\n",
    "    dtype=int,\n",
    "    usecols=0,\n",
    ")"
   ]
  },
  {
   "cell_type": "code",
   "execution_count": 65,
   "metadata": {},
   "outputs": [
    {
     "data": {
      "text/plain": [
       "(109379,)"
      ]
     },
     "execution_count": 65,
     "metadata": {},
     "output_type": "execute_result"
    }
   ],
   "source": [
    "test_idx_2.shape"
   ]
  },
  {
   "cell_type": "code",
   "execution_count": 67,
   "metadata": {},
   "outputs": [
    {
     "data": {
      "text/plain": [
       "(109379,)"
      ]
     },
     "execution_count": 67,
     "metadata": {},
     "output_type": "execute_result"
    }
   ],
   "source": [
    "test_ids.shape"
   ]
  },
  {
   "cell_type": "code",
   "execution_count": 68,
   "metadata": {},
   "outputs": [
    {
     "data": {
      "text/plain": [
       "(109379,)"
      ]
     },
     "execution_count": 68,
     "metadata": {},
     "output_type": "execute_result"
    }
   ],
   "source": [
    "y_test.shape"
   ]
  },
  {
   "cell_type": "code",
   "execution_count": 70,
   "metadata": {},
   "outputs": [
    {
     "data": {
      "text/plain": [
       "(109379, 320)"
      ]
     },
     "execution_count": 70,
     "metadata": {},
     "output_type": "execute_result"
    }
   ],
   "source": [
    "x_test.shape"
   ]
  },
  {
   "cell_type": "code",
   "execution_count": 71,
   "metadata": {},
   "outputs": [
    {
     "data": {
      "text/plain": [
       "45"
      ]
     },
     "execution_count": 71,
     "metadata": {},
     "output_type": "execute_result"
    }
   ],
   "source": [
    "test_ids[-1]"
   ]
  },
  {
   "cell_type": "code",
   "execution_count": 72,
   "metadata": {},
   "outputs": [
    {
     "data": {
      "text/plain": [
       "(53,)"
      ]
     },
     "execution_count": 72,
     "metadata": {},
     "output_type": "execute_result"
    }
   ],
   "source": [
    "np.unique(test_idx_2).shape"
   ]
  },
  {
   "cell_type": "code",
   "execution_count": 73,
   "metadata": {},
   "outputs": [
    {
     "data": {
      "text/plain": [
       "(53,)"
      ]
     },
     "execution_count": 73,
     "metadata": {},
     "output_type": "execute_result"
    }
   ],
   "source": [
    "np.unique(test_ids).shape"
   ]
  },
  {
   "cell_type": "code",
   "execution_count": 75,
   "metadata": {},
   "outputs": [
    {
     "data": {
      "text/plain": [
       "array([ True])"
      ]
     },
     "execution_count": 75,
     "metadata": {},
     "output_type": "execute_result"
    }
   ],
   "source": [
    "np.unique(test_ids == test_idx_2)"
   ]
  },
  {
   "cell_type": "code",
   "execution_count": 28,
   "metadata": {},
   "outputs": [
    {
     "ename": "NameError",
     "evalue": "name 'y_test' is not defined",
     "output_type": "error",
     "traceback": [
      "\u001b[0;31m---------------------------------------------------------------------------\u001b[0m",
      "\u001b[0;31mNameError\u001b[0m                                 Traceback (most recent call last)",
      "\u001b[1;32m/home/drudao/Desktop/EPFL/Year_I/MachineLearning/Projects/ML-Higgs-EPFL/run.ipynb Cell 48\u001b[0m line \u001b[0;36m3\n\u001b[1;32m      <a href='vscode-notebook-cell:/home/drudao/Desktop/EPFL/Year_I/MachineLearning/Projects/ML-Higgs-EPFL/run.ipynb#Y212sZmlsZQ%3D%3D?line=0'>1</a>\u001b[0m \u001b[39mfrom\u001b[39;00m \u001b[39msrc\u001b[39;00m\u001b[39m.\u001b[39;00m\u001b[39mevaluation\u001b[39;00m \u001b[39mimport\u001b[39;00m \u001b[39m*\u001b[39m\n\u001b[0;32m----> <a href='vscode-notebook-cell:/home/drudao/Desktop/EPFL/Year_I/MachineLearning/Projects/ML-Higgs-EPFL/run.ipynb#Y212sZmlsZQ%3D%3D?line=2'>3</a>\u001b[0m evaluation\u001b[39m.\u001b[39mcompute_accuracy(y_test, y_pred)\n",
      "\u001b[0;31mNameError\u001b[0m: name 'y_test' is not defined"
     ]
    }
   ],
   "source": [
    "from src.evaluation import *\n",
    "\n",
    "evaluation.compute_accuracy(y_test, y_pred)"
   ]
  },
  {
   "cell_type": "code",
   "execution_count": null,
   "metadata": {},
   "outputs": [],
   "source": []
  }
 ],
 "metadata": {
  "kernelspec": {
   "display_name": "modern_nlp",
   "language": "python",
   "name": "python3"
  },
  "language_info": {
   "codemirror_mode": {
    "name": "ipython",
    "version": 3
   },
   "file_extension": ".py",
   "mimetype": "text/x-python",
   "name": "python",
   "nbconvert_exporter": "python",
   "pygments_lexer": "ipython3",
   "version": "3.11.4"
  },
  "orig_nbformat": 4
 },
 "nbformat": 4,
 "nbformat_minor": 2
}
