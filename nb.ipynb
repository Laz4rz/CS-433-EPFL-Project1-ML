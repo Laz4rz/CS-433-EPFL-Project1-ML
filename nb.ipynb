{
 "cells": [
  {
   "cell_type": "code",
   "execution_count": 78,
   "metadata": {},
   "outputs": [
    {
     "name": "stdout",
     "output_type": "stream",
     "text": [
      "The autoreload extension is already loaded. To reload it, use:\n",
      "  %reload_ext autoreload\n"
     ]
    }
   ],
   "source": [
    "%load_ext autoreload\n",
    "%autoreload 2\n",
    "\n",
    "import numpy as np\n",
    "from utils import *\n",
    "from implementations import *\n",
    "from helpers import load_csv_data"
   ]
  },
  {
   "cell_type": "code",
   "execution_count": 95,
   "metadata": {},
   "outputs": [],
   "source": [
    "# Load training data\n",
    "\n",
    "y_tr, x_tr, ids_tr = load_csv_data(\"data/train.csv\")"
   ]
  },
  {
   "cell_type": "code",
   "execution_count": 80,
   "metadata": {},
   "outputs": [],
   "source": [
    "# Load test data\n",
    "\n",
    "y_te, x_te, ids_te = load_csv_data(\"data/test.csv\")"
   ]
  },
  {
   "cell_type": "code",
   "execution_count": null,
   "metadata": {},
   "outputs": [],
   "source": [
    "print(x_tr)"
   ]
  },
  {
   "cell_type": "code",
   "execution_count": 100,
   "metadata": {},
   "outputs": [
    {
     "name": "stdout",
     "output_type": "stream",
     "text": [
      "[0. 1. 2. 3.]\n"
     ]
    }
   ],
   "source": [
    "# Print only \"PRI_jet_num\" column\n",
    "# We can see that the range of values is 0,1,2,3\n",
    "print(np.unique(x_tr[:,-8]))"
   ]
  },
  {
   "cell_type": "code",
   "execution_count": 112,
   "metadata": {},
   "outputs": [
    {
     "name": "stdout",
     "output_type": "stream",
     "text": [
      "[-999.    0.]\n"
     ]
    }
   ],
   "source": [
    "# When \"PRI_jet_num\" is 0, then all the jet columns are -999\n",
    "# Verify that this is the case\n",
    "\n",
    "print(np.unique(x_tr[x_tr[:,-8] == 0][:, -7:]))"
   ]
  },
  {
   "cell_type": "code",
   "execution_count": 115,
   "metadata": {},
   "outputs": [
    {
     "name": "stdout",
     "output_type": "stream",
     "text": [
      "[-999.]\n"
     ]
    }
   ],
   "source": [
    "# When \"PRI_jet_num\" is 1, then the lsubleading jet columns are -999\n",
    "# Verify that this is the case\n",
    "\n",
    "print(np.unique(x_tr[x_tr[:,-8] == 1][:, -4:-1]))"
   ]
  },
  {
   "cell_type": "code",
   "execution_count": 110,
   "metadata": {},
   "outputs": [
    {
     "name": "stdout",
     "output_type": "stream",
     "text": [
      "193.66\n",
      "146.97699999999998\n",
      "-46.68300000000002\n"
     ]
    }
   ],
   "source": [
    "# The last column \"PRI_jet_all_pt\" is the sum of all the \"jet\" columns ???\n",
    "# Verify that this is true\n"
   ]
  },
  {
   "cell_type": "code",
   "execution_count": 84,
   "metadata": {},
   "outputs": [],
   "source": [
    "x_tr = standardize(x_tr)"
   ]
  },
  {
   "cell_type": "code",
   "execution_count": 85,
   "metadata": {},
   "outputs": [
    {
     "name": "stdout",
     "output_type": "stream",
     "text": [
      "[[ 0.96922337  0.36758382  0.68924419 ...  0.36814539  0.35945282\n",
      "   0.6308109 ]\n",
      " [ 0.96922337  0.36758382  0.7418138  ... -1.97227484 -1.97227484\n",
      "   0.47340627]\n",
      " [ 0.96922337  0.36758382 -1.97227484 ... -1.97227484 -1.97227484\n",
      "   0.46878505]\n",
      " ...\n",
      " [ 0.96922337  0.36758382  0.61199844 ... -1.97227484 -1.97227484\n",
      "   0.46349931]\n",
      " [ 0.96922337  0.36758382  0.58741589 ... -1.97227484 -1.97227484\n",
      "   0.36524397]\n",
      " [ 0.96922337  0.36758382 -1.97227484 ... -1.97227484 -1.97227484\n",
      "   0.36524397]]\n"
     ]
    }
   ],
   "source": [
    "print(x_tr)"
   ]
  },
  {
   "cell_type": "code",
   "execution_count": 64,
   "metadata": {},
   "outputs": [],
   "source": [
    "# PARAMETERS\n",
    "\n",
    "initial_w = np.zeros(x_tr.shape[1])   # initial weights\n",
    "max_iters = 100                       # max number of iterations\n",
    "gamma = 0.1                           # step size \n",
    "lambda_ = 2                           # regularization parameter\n"
   ]
  },
  {
   "cell_type": "code",
   "execution_count": 68,
   "metadata": {},
   "outputs": [
    {
     "name": "stdout",
     "output_type": "stream",
     "text": [
      "Mean squared error gradient descent: W: [ 1.30015261e+09  4.33387880e+09  4.85694746e+09  3.87300290e+09\n",
      " -1.64765853e+10 -1.69977021e+10 -1.64716554e+10  3.35069512e+09\n",
      "  3.57345601e+09  5.12029269e+09  3.32888687e+09  3.29247363e+09\n",
      " -1.64741946e+10  3.96961299e+09  3.30196337e+09  3.30202850e+09\n",
      "  4.12814541e+09  3.30169481e+09  3.30309479e+09  3.93840048e+09\n",
      "  3.30193414e+09  6.08447174e+09  3.30778391e+09 -8.44268746e+09\n",
      " -8.83863667e+09 -8.83874473e+09 -1.65297807e+10 -1.64736646e+10\n",
      " -1.64736767e+10  3.62708267e+09], Loss:1.6373367723157755e+22\n",
      "RMSE train: 180960590865.29175, RMSE test: 112611664608973.78\n"
     ]
    }
   ],
   "source": [
    "# Test Linear Regression with Gradient Descent\n",
    "\n",
    "w_mean_squared_error_gd, loss_mean_squared_error_gd = mean_squared_error_gd(y_tr, x_tr, initial_w, max_iters, gamma)\n",
    "\n",
    "# Fit of the model tested using RMSE, TODO: try R2 statistic\n",
    "rmse_tr = np.sqrt(2 * loss_mean_squared_error_gd)\n",
    "rmse_te = np.sqrt(2 * compute_loss(y_te, x_te, w_mean_squared_error_gd))\n",
    "\n",
    "print(\"Mean squared error gradient descent: W: {w}, Loss:{loss}\".format(w=w_mean_squared_error_gd, loss=loss_mean_squared_error_gd))\n",
    "print(\"RMSE train: {rmse_tr}, RMSE test: {rmse_te}\".format(rmse_tr=rmse_tr, rmse_te=rmse_te))\n"
   ]
  },
  {
   "cell_type": "code",
   "execution_count": 66,
   "metadata": {},
   "outputs": [
    {
     "name": "stdout",
     "output_type": "stream",
     "text": [
      "Least squares: W: [ 3.13356376e-02 -3.09741815e+00 -2.70522700e+00 -2.06801610e-01\n",
      " -1.33912480e+00  1.94835177e-01 -1.03232898e+01  1.48327058e+02\n",
      " -4.77128549e-02  4.80738057e+00 -9.37298630e+01  4.14169258e+01\n",
      "  1.95969787e+01 -1.09387125e+00 -1.14289354e-01 -4.31650570e-01\n",
      "  8.45753704e-01 -1.53106392e-01  3.67680263e-01  1.60072822e+00\n",
      "  9.50537668e-02 -2.16964200e-01 -9.17137406e+01 -9.50814758e-02\n",
      "  8.77034174e-02  1.48635485e-01 -3.04442023e-02 -2.85312478e+00\n",
      " -5.12725271e+00 -5.13349749e+00], Loss:0.33944681722221687\n",
      "RMSE train: 0.8239500193849344, RMSE test: 205.03819387349836\n"
     ]
    }
   ],
   "source": [
    "# Test Least Squares Regression using Normal Equations\n",
    "\n",
    "w_least_squares, loss_least_squares = least_squares(y_tr, x_tr)\n",
    "rmse_tr = np.sqrt(2 * loss_least_squares)\n",
    "rmse_te = np.sqrt(2 * compute_loss(y_te, x_te, w_least_squares))\n",
    "\n",
    "print(\"Least squares: W: {w}, Loss:{loss}\".format(w=w_least_squares, loss=loss_least_squares))\n",
    "print(\"RMSE train: {rmse_tr}, RMSE test: {rmse_te}\".format(rmse_tr=rmse_tr, rmse_te=rmse_te))"
   ]
  },
  {
   "cell_type": "code",
   "execution_count": 67,
   "metadata": {},
   "outputs": [
    {
     "name": "stdout",
     "output_type": "stream",
     "text": [
      "Ridge regression: W: [ 0.03285406 -0.01522637 -0.01105648 -0.00676256  0.0155015   0.02760007\n",
      "  0.01531225 -0.00745091 -0.00890914 -0.01231396 -0.00753058 -0.00725283\n",
      "  0.01547001 -0.00656988 -0.00737802 -0.00738148 -0.01009919 -0.00737697\n",
      " -0.00737479 -0.00953921 -0.00737048 -0.01489131 -0.00743624  0.01443978\n",
      "  0.01488679  0.01488641  0.01422847  0.01545997  0.01545747 -0.01039903], Loss:0.4339121896746597\n",
      "RMSE train: 0.9315709201930465, RMSE test: 132.4973086708635\n"
     ]
    }
   ],
   "source": [
    "# Test Ridge Regression using Normal Equations\n",
    "\n",
    "w_ridge_regression, loss_ridge_regression = ridge_regression(y_tr, x_tr, lambda_)\n",
    "rmse_tr = np.sqrt(2 * loss_ridge_regression)\n",
    "rmse_te = np.sqrt(2 * compute_loss(y_te, x_te, w_ridge_regression))\n",
    "\n",
    "print(\"Ridge regression: W: {w}, Loss:{loss}\".format(w=w_ridge_regression, loss=loss_ridge_regression))\n",
    "print(\"RMSE train: {rmse_tr}, RMSE test: {rmse_te}\".format(rmse_tr=rmse_tr, rmse_te=rmse_te))"
   ]
  }
 ],
 "metadata": {
  "kernelspec": {
   "display_name": "modern_nlp",
   "language": "python",
   "name": "python3"
  },
  "language_info": {
   "codemirror_mode": {
    "name": "ipython",
    "version": 3
   },
   "file_extension": ".py",
   "mimetype": "text/x-python",
   "name": "python",
   "nbconvert_exporter": "python",
   "pygments_lexer": "ipython3",
   "version": "3.11.4"
  },
  "orig_nbformat": 4
 },
 "nbformat": 4,
 "nbformat_minor": 2
}
