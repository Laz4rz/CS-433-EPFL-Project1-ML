{
 "cells": [
  {
   "cell_type": "code",
   "execution_count": 1,
   "metadata": {},
   "outputs": [],
   "source": [
    "%load_ext autoreload\n",
    "%autoreload 2\n",
    "\n",
    "import numpy as np\n",
    "from utils import *\n",
    "from implementations import *\n",
    "from helpers import *"
   ]
  },
  {
   "cell_type": "code",
   "execution_count": 41,
   "metadata": {},
   "outputs": [],
   "source": [
    "# Load training data (2.23m)\n",
    "\n",
    "x_train, x_test, y_train, train_ids, test_ids = load_csv_data(\"data/\")"
   ]
  },
  {
   "cell_type": "code",
   "execution_count": 42,
   "metadata": {},
   "outputs": [
    {
     "name": "stdout",
     "output_type": "stream",
     "text": [
      "x_train shape:  (328135, 320)\n",
      "y_train shape:  (328135, 1)\n",
      "x_test shape:  (109379, 320)\n"
     ]
    }
   ],
   "source": [
    "# Load test data\n",
    "y_train = np.expand_dims(y_train, 1)\n",
    "y_train = y_train.reshape((y_train.shape[0], 1))\n",
    "\n",
    "print(\"x_train shape: \", x_train.shape)\n",
    "print(\"y_train shape: \", y_train.shape) \n",
    "print(\"x_test shape: \", x_test.shape)"
   ]
  },
  {
   "cell_type": "code",
   "execution_count": 43,
   "metadata": {},
   "outputs": [],
   "source": [
    "x_train = standardize(x_train)"
   ]
  },
  {
   "cell_type": "code",
   "execution_count": 75,
   "metadata": {},
   "outputs": [],
   "source": [
    "def replace_nan_mean(x: np.ndarray) -> np.ndarray:\n",
    "    x = x.copy()\n",
    "    for col in range(x.shape[1]):\n",
    "        mean = np.nanmean(x[:, col])\n",
    "        x[np.isnan(x[:,col]), col] = mean\n",
    "    return x\n",
    "\n",
    "def less_than_percent_nans(x: np.ndarray, percentage: int) -> np.ndarray:\n",
    "    x = x.copy()\n",
    "    nan_percentage_per_column = np.isnan(x).sum(0) / len(x)\n",
    "    less_than_percent_nans_columns_mask = nan_percentage_per_column < (percentage / 100)\n",
    "    return x[:, less_than_percent_nans_columns_mask]\n",
    "    "
   ]
  },
  {
   "cell_type": "code",
   "execution_count": 84,
   "metadata": {},
   "outputs": [],
   "source": [
    "x_train_nonans = replace_nan_mean(less_than_percent_nans(x_train, 90))"
   ]
  },
  {
   "cell_type": "code",
   "execution_count": 87,
   "metadata": {},
   "outputs": [
    {
     "data": {
      "text/plain": [
       "0"
      ]
     },
     "execution_count": 87,
     "metadata": {},
     "output_type": "execute_result"
    }
   ],
   "source": [
    "np.isnan(x_train_nonans).sum()"
   ]
  },
  {
   "cell_type": "code",
   "execution_count": 48,
   "metadata": {},
   "outputs": [
    {
     "data": {
      "text/plain": [
       "186763"
      ]
     },
     "execution_count": 48,
     "metadata": {},
     "output_type": "execute_result"
    }
   ],
   "source": [
    "np.isnan(x_train[:, 100]).sum()\n",
    "\n",
    "replace_nan_mean(x_train)\n",
    "\n",
    "np.isnan(x_train[:, 100]).sum()\n"
   ]
  },
  {
   "cell_type": "code",
   "execution_count": 88,
   "metadata": {},
   "outputs": [],
   "source": [
    "# PARAMETERS\n",
    "\n",
    "max_iters = 20                            # max number of iterations \n",
    "threshold = 1e-8                            # threshold for stopping criterion\n",
    "gamma = 0.001                                 # step size\n",
    "initial_w = np.zeros((x_train_nonans.shape[1], 1)) # initial weights"
   ]
  },
  {
   "cell_type": "code",
   "execution_count": 89,
   "metadata": {},
   "outputs": [
    {
     "name": "stdout",
     "output_type": "stream",
     "text": [
      "[[0.04415104]]\n",
      "[[2.57087432e+29]]\n",
      "[[1.69531403e+61]]\n",
      "[[1.1179425e+93]]\n",
      "[[7.37205856e+124]]\n",
      "[[4.86136339e+156]]\n",
      "[[3.20573336e+188]]\n",
      "[[2.11395971e+220]]\n",
      "[[1.39401041e+252]]\n",
      "[[9.19253572e+283]]\n",
      "[[inf]]\n",
      "[[inf]]\n",
      "[[inf]]\n",
      "[[inf]]\n",
      "[[inf]]\n",
      "[[inf]]\n",
      "[[inf]]\n",
      "[[inf]]\n",
      "[[inf]]\n",
      "[[inf]]\n",
      "Mean squared error gradient descent: W: [[-1.07543494e+299]\n",
      " [            -inf]\n",
      " [-1.08489838e+299]\n",
      " [-2.45095000e+299]\n",
      " [            -inf]\n",
      " [            -inf]\n",
      " [            -inf]\n",
      " [            -inf]\n",
      " [-1.69074928e+298]\n",
      " [-1.69103597e+298]\n",
      " [-1.69074928e+298]\n",
      " [-2.61158578e+298]\n",
      " [-3.03301256e+298]\n",
      " [-1.35525461e+298]\n",
      " [-1.67711464e+298]\n",
      " [-1.69074928e+298]\n",
      " [-1.69074928e+298]\n",
      " [-2.54377639e+298]\n",
      " [-1.70047550e+298]\n",
      " [-1.80389757e+298]\n",
      " [-2.76002206e+298]\n",
      " [-4.11391854e+298]\n",
      " [-4.34862207e+298]\n",
      " [            -inf]\n",
      " [            -inf]\n",
      " [            -inf]\n",
      " [-1.85982687e+298]\n",
      " [-2.35691913e+298]\n",
      " [-3.23925017e+298]\n",
      " [-2.66082265e+298]\n",
      " [-3.74018807e+298]\n",
      " [-1.98251040e+298]\n",
      " [-2.09637780e+298]\n",
      " [-2.45097822e+298]\n",
      " [-2.75427769e+298]\n",
      " [-3.33182233e+298]\n",
      " [-3.18056765e+298]\n",
      " [-2.50771540e+298]\n",
      " [-3.24282617e+298]\n",
      " [-3.23225347e+298]\n",
      " [-3.28689164e+298]\n",
      " [-2.86644295e+298]\n",
      " [-3.10254694e+298]\n",
      " [-3.34819213e+298]\n",
      " [-4.66322810e+298]\n",
      " [            -inf]\n",
      " [-2.66640478e+298]\n",
      " [-3.82455565e+298]\n",
      " [-8.32475104e+298]\n",
      " [-2.32379307e+298]\n",
      " [-3.33473238e+298]\n",
      " [-2.07244004e+298]\n",
      " [-3.18132968e+298]\n",
      " [-6.64147177e+298]\n",
      " [            -inf]\n",
      " [-3.40428412e+299]\n",
      " [-2.08125306e+298]\n",
      " [            -inf]\n",
      " [            -inf]\n",
      " [-3.39695082e+298]\n",
      " [-3.03346015e+298]\n",
      " [-3.21091550e+298]\n",
      " [-3.33716321e+298]\n",
      " [-3.28110394e+298]\n",
      " [-3.14042112e+298]\n",
      " [-3.33594905e+298]\n",
      " [-3.29383037e+298]\n",
      " [-2.72866863e+298]\n",
      " [-4.12287342e+298]\n",
      " [-2.45672818e+298]\n",
      " [-1.14175777e+299]\n",
      " [-5.03352559e+298]\n",
      " [            -inf]\n",
      " [-5.86583960e+298]\n",
      " [            -inf]\n",
      " [-9.40642561e+298]\n",
      " [            -inf]\n",
      " [            -inf]\n",
      " [            -inf]\n",
      " [            -inf]\n",
      " [            -inf]\n",
      " [            -inf]\n",
      " [-2.21479582e+298]\n",
      " [            -inf]\n",
      " [            -inf]\n",
      " [            -inf]\n",
      " [            -inf]\n",
      " [            -inf]\n",
      " [            -inf]\n",
      " [            -inf]\n",
      " [-2.66765523e+298]\n",
      " [-3.14919027e+298]\n",
      " [-4.12802923e+298]\n",
      " [-1.04609253e+299]\n",
      " [-2.16068536e+298]\n",
      " [-2.65463598e+298]\n",
      " [            -inf]\n",
      " [-6.98727438e+298]\n",
      " [-3.50036412e+298]\n",
      " [-3.22827429e+298]\n",
      " [            -inf]\n",
      " [-7.76120566e+298]\n",
      " [-2.73487212e+298]\n",
      " [-4.72928818e+298]\n",
      " [-3.05799394e+298]\n",
      " [-3.74518684e+298]\n",
      " [-3.28379096e+298]\n",
      " [-2.84227232e+298]\n",
      " [-2.20120303e+298]\n",
      " [-6.97110643e+298]\n",
      " [-7.32349817e+298]\n",
      " [-2.12023236e+298]\n",
      " [-6.84928804e+298]\n",
      " [-3.11312387e+298]\n",
      " [-2.88983607e+298]\n",
      " [-3.70343690e+298]\n",
      " [-2.51683672e+299]\n",
      " [-1.75351584e+298]\n",
      " [-4.29832351e+298]\n",
      " [            -inf]\n",
      " [            -inf]\n",
      " [-2.43444515e+298]\n",
      " [            -inf]\n",
      " [-1.28616836e+299]\n",
      " [-1.22116749e+299]\n",
      " [-1.22116749e+299]\n",
      " [            -inf]\n",
      " [-7.03475929e+298]\n",
      " [-1.04775610e+298]\n",
      " [            -inf]\n",
      " [-2.03826652e+298]\n",
      " [-6.65611998e+298]\n",
      " [-2.40770804e+298]\n",
      " [-2.58628738e+298]\n",
      " [-2.51692902e+298]\n",
      " [-1.95793235e+298]\n",
      " [-1.93920780e+298]\n",
      " [-4.77249001e+298]\n",
      " [-2.81374208e+298]\n",
      " [-5.23607642e+298]\n",
      " [-5.37741747e+298]\n",
      " [-3.35329313e+298]\n",
      " [-3.40663864e+298]\n",
      " [-2.28767322e+298]\n",
      " [-2.83405029e+298]\n",
      " [-2.45563847e+298]\n",
      " [-1.31706581e+299]\n",
      " [-2.31266818e+298]\n",
      " [            -inf]\n",
      " [-7.50491932e+298]\n",
      " [            -inf]\n",
      " [-2.86524859e+298]\n",
      " [            -inf]\n",
      " [-4.73967881e+299]\n",
      " [-4.96551113e+298]\n",
      " [-3.82810564e+298]\n",
      " [-2.65168424e+298]\n",
      " [-5.00315665e+298]\n",
      " [-7.90618962e+298]\n",
      " [-5.99886624e+298]\n",
      " [-2.47292486e+298]\n",
      " [-3.12181259e+298]\n",
      " [            -inf]\n",
      " [-2.66240161e+298]\n",
      " [            -inf]\n",
      " [-2.55726784e+298]\n",
      " [-6.02363475e+297]\n",
      " [-1.69913757e+298]\n",
      " [-4.73929342e+297]\n",
      " [-9.60293680e+297]\n",
      " [-5.01904076e+297]\n",
      " [-1.35766989e+298]\n",
      " [-2.84902926e+297]\n",
      " [-6.01958108e+297]\n",
      " [-1.52527341e+298]\n",
      " [-1.49698562e+298]\n",
      " [-2.30245984e+298]\n",
      " [-3.29600213e+298]\n",
      " [-3.58875200e+298]\n",
      " [-3.54965914e+298]\n",
      " [-1.69038860e+298]\n",
      " [-1.69054833e+298]\n",
      " [-1.66197229e+297]\n",
      " [-1.94165556e+297]\n",
      " [-3.25774364e+298]\n",
      " [-7.05134957e+298]\n",
      " [-4.88234816e+298]\n",
      " [            -inf]\n",
      " [-2.84103149e+299]\n",
      " [-2.16360875e+298]\n",
      " [-1.47768367e+298]\n",
      " [            -inf]\n",
      " [            -inf]\n",
      " [-6.80963180e+298]\n",
      " [-5.28874486e+298]\n",
      " [            -inf]\n",
      " [            -inf]\n",
      " [-2.02979663e+298]\n",
      " [-1.38324239e+298]\n",
      " [            -inf]\n",
      " [            -inf]\n",
      " [            -inf]\n",
      " [            -inf]\n",
      " [            -inf]\n",
      " [            -inf]\n",
      " [-5.49785279e+298]\n",
      " [-4.01639730e+298]\n",
      " [-4.44389833e+298]\n",
      " [-4.79688253e+298]\n",
      " [-4.36938151e+298]\n",
      " [-4.13273807e+298]\n",
      " [-5.89829252e+298]\n",
      " [-4.62861415e+298]\n",
      " [-4.59392309e+298]\n",
      " [-4.75823953e+298]\n",
      " [-6.17579656e+298]\n",
      " [-3.07787674e+298]\n",
      " [-3.18264977e+298]\n",
      " [-3.87166356e+298]\n",
      " [-4.06928468e+298]\n",
      " [-3.32515450e+298]], Loss:[[inf]]\n"
     ]
    }
   ],
   "source": [
    "# Mean squared error gradient descent\n",
    "w_mean_squared_error_gd, loss_mean_squared_error_gd = mean_squared_error_gd(y_train, x_train_nonans, initial_w, max_iters, gamma)\n",
    "\n",
    "rmse_tr = np.sqrt(2 * loss_mean_squared_error_gd)\n",
    "#rmse_te = np.sqrt(2 * compute_loss(y_test, x_test, w_mean_squared_error_gd))\n",
    "\n",
    "print(\"Mean squared error gradient descent: W: {w}, Loss:{loss}\".format(w=w_mean_squared_error_gd, loss=loss_mean_squared_error_gd))\n",
    "#print(\"RMSE train: {rmse_tr}, RMSE test: {rmse_te}\".format(rmse_tr=rmse_tr, rmse_te=rmse_te))\n"
   ]
  },
  {
   "cell_type": "code",
   "execution_count": 66,
   "metadata": {},
   "outputs": [
    {
     "name": "stdout",
     "output_type": "stream",
     "text": [
      "Least squares: W: [ 3.13356376e-02 -3.09741815e+00 -2.70522700e+00 -2.06801610e-01\n",
      " -1.33912480e+00  1.94835177e-01 -1.03232898e+01  1.48327058e+02\n",
      " -4.77128549e-02  4.80738057e+00 -9.37298630e+01  4.14169258e+01\n",
      "  1.95969787e+01 -1.09387125e+00 -1.14289354e-01 -4.31650570e-01\n",
      "  8.45753704e-01 -1.53106392e-01  3.67680263e-01  1.60072822e+00\n",
      "  9.50537668e-02 -2.16964200e-01 -9.17137406e+01 -9.50814758e-02\n",
      "  8.77034174e-02  1.48635485e-01 -3.04442023e-02 -2.85312478e+00\n",
      " -5.12725271e+00 -5.13349749e+00], Loss:0.33944681722221687\n",
      "RMSE train: 0.8239500193849344, RMSE test: 205.03819387349836\n"
     ]
    }
   ],
   "source": [
    "# Test Least Squares Regression using Normal Equations\n",
    "\n",
    "w_least_squares, loss_least_squares = least_squares(y_tr, x_tr)\n",
    "rmse_tr = np.sqrt(2 * loss_least_squares)\n",
    "rmse_te = np.sqrt(2 * compute_loss(y_te, x_te, w_least_squares))\n",
    "\n",
    "print(\"Least squares: W: {w}, Loss:{loss}\".format(w=w_least_squares, loss=loss_least_squares))\n",
    "print(\"RMSE train: {rmse_tr}, RMSE test: {rmse_te}\".format(rmse_tr=rmse_tr, rmse_te=rmse_te))"
   ]
  },
  {
   "cell_type": "code",
   "execution_count": 67,
   "metadata": {},
   "outputs": [
    {
     "name": "stdout",
     "output_type": "stream",
     "text": [
      "Ridge regression: W: [ 0.03285406 -0.01522637 -0.01105648 -0.00676256  0.0155015   0.02760007\n",
      "  0.01531225 -0.00745091 -0.00890914 -0.01231396 -0.00753058 -0.00725283\n",
      "  0.01547001 -0.00656988 -0.00737802 -0.00738148 -0.01009919 -0.00737697\n",
      " -0.00737479 -0.00953921 -0.00737048 -0.01489131 -0.00743624  0.01443978\n",
      "  0.01488679  0.01488641  0.01422847  0.01545997  0.01545747 -0.01039903], Loss:0.4339121896746597\n",
      "RMSE train: 0.9315709201930465, RMSE test: 132.4973086708635\n"
     ]
    }
   ],
   "source": [
    "# Test Ridge Regression using Normal Equations\n",
    "\n",
    "w_ridge_regression, loss_ridge_regression = ridge_regression(y_tr, x_tr, lambda_)\n",
    "rmse_tr = np.sqrt(2 * loss_ridge_regression)\n",
    "rmse_te = np.sqrt(2 * compute_loss(y_te, x_te, w_ridge_regression))\n",
    "\n",
    "print(\"Ridge regression: W: {w}, Loss:{loss}\".format(w=w_ridge_regression, loss=loss_ridge_regression))\n",
    "print(\"RMSE train: {rmse_tr}, RMSE test: {rmse_te}\".format(rmse_tr=rmse_tr, rmse_te=rmse_te))"
   ]
  }
 ],
 "metadata": {
  "kernelspec": {
   "display_name": "modern_nlp",
   "language": "python",
   "name": "python3"
  },
  "language_info": {
   "codemirror_mode": {
    "name": "ipython",
    "version": 3
   },
   "file_extension": ".py",
   "mimetype": "text/x-python",
   "name": "python",
   "nbconvert_exporter": "python",
   "pygments_lexer": "ipython3",
   "version": "3.11.4"
  },
  "orig_nbformat": 4
 },
 "nbformat": 4,
 "nbformat_minor": 2
}
