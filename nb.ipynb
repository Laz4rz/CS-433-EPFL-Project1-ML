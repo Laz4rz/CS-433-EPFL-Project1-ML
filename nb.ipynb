{
 "cells": [
  {
   "cell_type": "code",
   "execution_count": 2,
   "metadata": {},
   "outputs": [],
   "source": [
    "%load_ext autoreload\n",
    "%autoreload 2\n",
    "\n",
    "import numpy as np\n",
    "from utils import *\n",
    "from implementations import *\n",
    "from helpers import *"
   ]
  },
  {
   "cell_type": "code",
   "execution_count": 3,
   "metadata": {},
   "outputs": [],
   "source": [
    "# Load training data (2.23m)\n",
    "\n",
    "x_train, x_test, y_train, train_ids, test_ids = load_csv_data(\"data/\")"
   ]
  },
  {
   "cell_type": "code",
   "execution_count": 14,
   "metadata": {},
   "outputs": [
    {
     "name": "stdout",
     "output_type": "stream",
     "text": [
      "x_train shape:  (328135, 320)\n",
      "y_train shape:  (328135, 1)\n",
      "x_test shape:  (109379, 320)\n"
     ]
    }
   ],
   "source": [
    "# Load test data\n",
    "y_train = np.expand_dims(y_train, 1)\n",
    "y_train = y_train.reshape((y_train.shape[0],1))\n",
    "\n",
    "print(\"x_train shape: \", x_train.shape)\n",
    "print(\"y_train shape: \", y_train.shape) \n",
    "print(\"x_test shape: \", x_test.shape)"
   ]
  },
  {
   "cell_type": "code",
   "execution_count": 15,
   "metadata": {},
   "outputs": [],
   "source": [
    "def replace_nan_mean(x: np.ndarray) -> np.ndarray:\n",
    "    x = x.copy()\n",
    "    for col in range(x.shape[1]):\n",
    "        mean = np.nanmean(x[:, col])\n",
    "        x[np.isnan(x[:,col]), col] = mean\n",
    "    return x\n",
    "\n",
    "def less_than_percent_nans(x: np.ndarray, percentage: int) -> np.ndarray:\n",
    "    x = x.copy()\n",
    "    nan_percentage_per_column = np.isnan(x).sum(0) / len(x)\n",
    "    less_than_percent_nans_columns_mask = nan_percentage_per_column < (percentage / 100)\n",
    "    return x[:, less_than_percent_nans_columns_mask]\n",
    "    "
   ]
  },
  {
   "cell_type": "code",
   "execution_count": 16,
   "metadata": {},
   "outputs": [],
   "source": [
    "x_train_nonans = replace_nan_mean(less_than_percent_nans(x_train, 90))"
   ]
  },
  {
   "cell_type": "code",
   "execution_count": 7,
   "metadata": {},
   "outputs": [
    {
     "data": {
      "text/plain": [
       "0"
      ]
     },
     "execution_count": 7,
     "metadata": {},
     "output_type": "execute_result"
    }
   ],
   "source": [
    "np.isnan(x_train_nonans).sum()"
   ]
  },
  {
   "cell_type": "code",
   "execution_count": 17,
   "metadata": {},
   "outputs": [],
   "source": [
    "x_train_nonans = standardize(x_train_nonans)"
   ]
  },
  {
   "cell_type": "code",
   "execution_count": 9,
   "metadata": {},
   "outputs": [],
   "source": [
    "# get onòy the first 3 columns\n",
    "x_train_nonans = x_train_nonans[:, :3]"
   ]
  },
  {
   "cell_type": "code",
   "execution_count": 10,
   "metadata": {},
   "outputs": [
    {
     "data": {
      "text/plain": [
       "(328135, 3)"
      ]
     },
     "execution_count": 10,
     "metadata": {},
     "output_type": "execute_result"
    }
   ],
   "source": [
    "x_train_nonans.shape"
   ]
  },
  {
   "cell_type": "code",
   "execution_count": 11,
   "metadata": {},
   "outputs": [
    {
     "data": {
      "text/plain": [
       "186763"
      ]
     },
     "execution_count": 11,
     "metadata": {},
     "output_type": "execute_result"
    }
   ],
   "source": [
    "np.isnan(x_train[:, 100]).sum()\n",
    "\n",
    "replace_nan_mean(x_train)\n",
    "\n",
    "np.isnan(x_train[:, 100]).sum()\n"
   ]
  },
  {
   "cell_type": "code",
   "execution_count": 23,
   "metadata": {},
   "outputs": [],
   "source": [
    "# PARAMETERS\n",
    "\n",
    "max_iters = 20                            # max number of iterations \n",
    "threshold = 1e-8                            # threshold for stopping criterion\n",
    "gamma = 0.4                 # step size\n",
    "initial_w = np.zeros((x_train_nonans.shape[1], 1)) # initial weights"
   ]
  },
  {
   "cell_type": "code",
   "execution_count": 24,
   "metadata": {},
   "outputs": [
    {
     "name": "stdout",
     "output_type": "stream",
     "text": [
      "0.04415103539701647\n",
      "30.094030883250454\n",
      "231679.09678235275\n",
      "1785971280.9470463\n",
      "13767724471942.688\n",
      "1.0613285844051994e+17\n",
      "8.181587061617403e+20\n",
      "6.3070351473047e+24\n",
      "4.861977517290225e+28\n",
      "3.7480091400376114e+32\n",
      "2.889271384708802e+36\n",
      "2.227286226525484e+40\n",
      "1.7169740305894428e+44\n",
      "1.3235837345958824e+48\n",
      "1.0203263830876962e+52\n",
      "7.865508624905023e+55\n",
      "6.063376087682339e+59\n",
      "4.6741452249215735e+63\n",
      "3.603212676851863e+67\n",
      "2.7776504515524736e+71\n",
      "Mean squared error gradient descent: W: [[ 2.81580402e+34]\n",
      " [ 2.81580319e+34]\n",
      " [ 1.79956688e+34]\n",
      " [ 2.81580318e+34]\n",
      " [ 2.81580193e+34]\n",
      " [ 2.81549219e+34]\n",
      " [ 2.81563154e+34]\n",
      " [-3.09164897e+36]\n",
      " [-3.09164897e+36]\n",
      " [ 2.81580402e+34]\n",
      " [ 2.81580402e+34]\n",
      " [ 2.81580402e+34]\n",
      " [ 2.81580394e+34]\n",
      " [ 2.81580390e+34]\n",
      " [ 2.81580405e+34]\n",
      " [ 2.81580402e+34]\n",
      " [ 2.81580402e+34]\n",
      " [ 2.81580402e+34]\n",
      " [ 2.81580394e+34]\n",
      " [ 2.81580402e+34]\n",
      " [ 2.81580401e+34]\n",
      " [ 2.81580392e+34]\n",
      " [ 2.81580380e+34]\n",
      " [ 2.81580378e+34]\n",
      " [ 2.81579477e+34]\n",
      " [ 2.81579415e+34]\n",
      " [ 2.81579554e+34]\n",
      " [ 2.81580401e+34]\n",
      " [ 2.81580396e+34]\n",
      " [ 2.81580388e+34]\n",
      " [ 2.81580393e+34]\n",
      " [ 2.81580383e+34]\n",
      " [ 2.81580400e+34]\n",
      " [ 2.81580398e+34]\n",
      " [ 2.81580395e+34]\n",
      " [ 2.81580392e+34]\n",
      " [ 2.81580387e+34]\n",
      " [ 2.81580389e+34]\n",
      " [ 2.81580395e+34]\n",
      " [ 2.81580388e+34]\n",
      " [ 2.81580388e+34]\n",
      " [ 2.81580388e+34]\n",
      " [ 2.81580391e+34]\n",
      " [ 2.81580389e+34]\n",
      " [ 2.81580387e+34]\n",
      " [ 2.81580375e+34]\n",
      " [ 2.81579574e+34]\n",
      " [ 2.81580393e+34]\n",
      " [ 2.81580383e+34]\n",
      " [ 2.81580341e+34]\n",
      " [ 2.81580396e+34]\n",
      " [ 2.81580387e+34]\n",
      " [ 2.81580399e+34]\n",
      " [ 2.81580389e+34]\n",
      " [ 2.81580357e+34]\n",
      " [ 2.81579398e+34]\n",
      " [ 2.81580106e+34]\n",
      " [ 2.81580399e+34]\n",
      " [ 2.81569037e+34]\n",
      " [ 2.81568974e+34]\n",
      " [ 2.81580387e+34]\n",
      " [ 2.81580390e+34]\n",
      " [ 2.81580388e+34]\n",
      " [ 2.81580387e+34]\n",
      " [ 2.81580388e+34]\n",
      " [ 2.81580389e+34]\n",
      " [ 2.81580387e+34]\n",
      " [ 2.81580388e+34]\n",
      " [ 2.81580393e+34]\n",
      " [ 2.81580380e+34]\n",
      " [ 2.81580395e+34]\n",
      " [ 2.81580313e+34]\n",
      " [ 2.81580372e+34]\n",
      " [ 2.81572135e+34]\n",
      " [ 2.81580364e+34]\n",
      " [ 2.81579368e+34]\n",
      " [ 2.81580332e+34]\n",
      " [ 2.81574725e+34]\n",
      " [ 2.81577124e+34]\n",
      " [ 2.81575549e+34]\n",
      " [ 2.81576404e+34]\n",
      " [ 2.81575748e+34]\n",
      " [ 2.81576904e+34]\n",
      " [ 2.81580397e+34]\n",
      " [ 2.81579605e+34]\n",
      " [ 2.81578207e+34]\n",
      " [ 2.81578759e+34]\n",
      " [ 2.81579448e+34]\n",
      " [ 2.81578142e+34]\n",
      " [ 2.81578498e+34]\n",
      " [ 2.81571089e+34]\n",
      " [ 2.81580393e+34]\n",
      " [ 2.81580389e+34]\n",
      " [ 2.81580380e+34]\n",
      " [ 2.81580322e+34]\n",
      " [ 2.81580398e+34]\n",
      " [ 2.81580393e+34]\n",
      " [ 2.79465084e+34]\n",
      " [ 2.81580354e+34]\n",
      " [ 2.81580386e+34]\n",
      " [ 2.81580388e+34]\n",
      " [ 2.75558141e+34]\n",
      " [ 2.81580347e+34]\n",
      " [ 2.81580393e+34]\n",
      " [ 2.81580374e+34]\n",
      " [ 2.81580390e+34]\n",
      " [ 2.81580383e+34]\n",
      " [ 2.81580388e+34]\n",
      " [ 2.81580392e+34]\n",
      " [ 2.81580398e+34]\n",
      " [ 2.81580354e+34]\n",
      " [ 2.81580351e+34]\n",
      " [ 2.81580398e+34]\n",
      " [ 2.81580355e+34]\n",
      " [ 2.81580389e+34]\n",
      " [ 2.81580391e+34]\n",
      " [ 2.81580384e+34]\n",
      " [ 2.81580187e+34]\n",
      " [ 2.81580402e+34]\n",
      " [ 2.81580378e+34]\n",
      " [ 2.76916695e+34]\n",
      " [ 2.81578803e+34]\n",
      " [ 2.81580395e+34]\n",
      " [ 2.81578536e+34]\n",
      " [ 2.81580300e+34]\n",
      " [ 2.81580306e+34]\n",
      " [ 2.81580306e+34]\n",
      " [ 2.81567948e+34]\n",
      " [ 2.81580353e+34]\n",
      " [ 2.81580408e+34]\n",
      " [ 2.81571598e+34]\n",
      " [ 2.81580399e+34]\n",
      " [ 2.81580357e+34]\n",
      " [ 2.81580396e+34]\n",
      " [ 2.81580394e+34]\n",
      " [ 2.81580395e+34]\n",
      " [ 2.81580400e+34]\n",
      " [ 2.81580400e+34]\n",
      " [ 2.81580374e+34]\n",
      " [ 2.81580392e+34]\n",
      " [ 2.81580370e+34]\n",
      " [ 2.81580368e+34]\n",
      " [ 2.81580387e+34]\n",
      " [ 2.81580386e+34]\n",
      " [ 2.81580397e+34]\n",
      " [ 2.81580392e+34]\n",
      " [ 2.81580395e+34]\n",
      " [ 2.81580297e+34]\n",
      " [ 2.81580396e+34]\n",
      " [ 2.81579561e+34]\n",
      " [ 2.81580349e+34]\n",
      " [ 2.81579385e+34]\n",
      " [ 2.81580391e+34]\n",
      " [ 2.81579165e+34]\n",
      " [ 2.81579984e+34]\n",
      " [ 2.81580372e+34]\n",
      " [ 2.81580383e+34]\n",
      " [ 2.81580393e+34]\n",
      " [ 2.81580372e+34]\n",
      " [ 2.81580345e+34]\n",
      " [ 2.81580363e+34]\n",
      " [ 2.81580395e+34]\n",
      " [ 2.81580389e+34]\n",
      " [ 2.81579502e+34]\n",
      " [ 2.81580393e+34]\n",
      " [ 2.81487180e+34]\n",
      " [ 2.81580394e+34]\n",
      " [ 2.81580412e+34]\n",
      " [ 2.81580402e+34]\n",
      " [ 2.81580413e+34]\n",
      " [ 2.81580409e+34]\n",
      " [ 2.81580413e+34]\n",
      " [ 2.81580405e+34]\n",
      " [ 2.81580415e+34]\n",
      " [ 2.81580412e+34]\n",
      " [ 2.81580404e+34]\n",
      " [ 2.81580404e+34]\n",
      " [ 2.81580397e+34]\n",
      " [ 2.81580387e+34]\n",
      " [ 2.81580385e+34]\n",
      " [ 2.81580385e+34]\n",
      " [ 2.81580402e+34]\n",
      " [ 2.81580402e+34]\n",
      " [ 2.81580416e+34]\n",
      " [ 2.81580416e+34]\n",
      " [ 2.81580388e+34]\n",
      " [ 2.81580353e+34]\n",
      " [ 2.81580373e+34]\n",
      " [ 2.81579798e+34]\n",
      " [ 2.81580158e+34]\n",
      " [ 2.81580398e+34]\n",
      " [ 2.81580404e+34]\n",
      " [ 2.81579436e+34]\n",
      " [ 2.81579308e+34]\n",
      " [ 2.81580355e+34]\n",
      " [ 2.81580369e+34]\n",
      " [ 2.81576864e+34]\n",
      " [ 2.81578409e+34]\n",
      " [ 2.81580399e+34]\n",
      " [ 2.81580405e+34]\n",
      " [ 2.81575569e+34]\n",
      " [ 2.81577609e+34]\n",
      " [ 2.81572942e+34]\n",
      " [ 2.81579147e+34]\n",
      " [ 2.81579628e+34]\n",
      " [ 2.81578388e+34]\n",
      " [ 2.81580367e+34]\n",
      " [ 2.81580381e+34]\n",
      " [ 2.81580377e+34]\n",
      " [ 2.81580374e+34]\n",
      " [ 2.81580378e+34]\n",
      " [ 2.81580380e+34]\n",
      " [ 2.81580364e+34]\n",
      " [ 2.81580375e+34]\n",
      " [ 2.81580376e+34]\n",
      " [ 2.81580374e+34]\n",
      " [ 2.81580361e+34]\n",
      " [ 2.81580389e+34]\n",
      " [ 2.81580389e+34]\n",
      " [ 2.81580382e+34]\n",
      " [ 2.81580380e+34]\n",
      " [ 2.81580387e+34]], Loss:2.7776504515524736e+71\n"
     ]
    }
   ],
   "source": [
    "# Mean squared error gradient descent\n",
    "w_mean_squared_error_gd, loss_mean_squared_error_gd = mean_squared_error_gd(y_train, x_train_nonans, initial_w, max_iters, gamma)\n",
    "\n",
    "rmse_tr = np.sqrt(2 * loss_mean_squared_error_gd)\n",
    "#rmse_te = np.sqrt(2 * compute_loss(y_test, x_test, w_mean_squared_error_gd))\n",
    "\n",
    "print(\"Mean squared error gradient descent: W: {w}, Loss:{loss}\".format(w=w_mean_squared_error_gd, loss=loss_mean_squared_error_gd))\n",
    "#print(\"RMSE train: {rmse_tr}, RMSE test: {rmse_te}\".format(rmse_tr=rmse_tr, rmse_te=rmse_te))\n"
   ]
  },
  {
   "cell_type": "code",
   "execution_count": null,
   "metadata": {},
   "outputs": [
    {
     "name": "stdout",
     "output_type": "stream",
     "text": [
      "Least squares: W: [ 3.13356376e-02 -3.09741815e+00 -2.70522700e+00 -2.06801610e-01\n",
      " -1.33912480e+00  1.94835177e-01 -1.03232898e+01  1.48327058e+02\n",
      " -4.77128549e-02  4.80738057e+00 -9.37298630e+01  4.14169258e+01\n",
      "  1.95969787e+01 -1.09387125e+00 -1.14289354e-01 -4.31650570e-01\n",
      "  8.45753704e-01 -1.53106392e-01  3.67680263e-01  1.60072822e+00\n",
      "  9.50537668e-02 -2.16964200e-01 -9.17137406e+01 -9.50814758e-02\n",
      "  8.77034174e-02  1.48635485e-01 -3.04442023e-02 -2.85312478e+00\n",
      " -5.12725271e+00 -5.13349749e+00], Loss:0.33944681722221687\n",
      "RMSE train: 0.8239500193849344, RMSE test: 205.03819387349836\n"
     ]
    }
   ],
   "source": [
    "# Test Least Squares Regression using Normal Equations\n",
    "\n",
    "w_least_squares, loss_least_squares = least_squares(y_tr, x_tr)\n",
    "rmse_tr = np.sqrt(2 * loss_least_squares)\n",
    "rmse_te = np.sqrt(2 * compute_loss(y_te, x_te, w_least_squares))\n",
    "\n",
    "print(\"Least squares: W: {w}, Loss:{loss}\".format(w=w_least_squares, loss=loss_least_squares))\n",
    "print(\"RMSE train: {rmse_tr}, RMSE test: {rmse_te}\".format(rmse_tr=rmse_tr, rmse_te=rmse_te))"
   ]
  },
  {
   "cell_type": "code",
   "execution_count": null,
   "metadata": {},
   "outputs": [
    {
     "name": "stdout",
     "output_type": "stream",
     "text": [
      "Ridge regression: W: [ 0.03285406 -0.01522637 -0.01105648 -0.00676256  0.0155015   0.02760007\n",
      "  0.01531225 -0.00745091 -0.00890914 -0.01231396 -0.00753058 -0.00725283\n",
      "  0.01547001 -0.00656988 -0.00737802 -0.00738148 -0.01009919 -0.00737697\n",
      " -0.00737479 -0.00953921 -0.00737048 -0.01489131 -0.00743624  0.01443978\n",
      "  0.01488679  0.01488641  0.01422847  0.01545997  0.01545747 -0.01039903], Loss:0.4339121896746597\n",
      "RMSE train: 0.9315709201930465, RMSE test: 132.4973086708635\n"
     ]
    }
   ],
   "source": [
    "# Test Ridge Regression using Normal Equations\n",
    "\n",
    "w_ridge_regression, loss_ridge_regression = ridge_regression(y_tr, x_tr, lambda_)\n",
    "rmse_tr = np.sqrt(2 * loss_ridge_regression)\n",
    "rmse_te = np.sqrt(2 * compute_loss(y_te, x_te, w_ridge_regression))\n",
    "\n",
    "print(\"Ridge regression: W: {w}, Loss:{loss}\".format(w=w_ridge_regression, loss=loss_ridge_regression))\n",
    "print(\"RMSE train: {rmse_tr}, RMSE test: {rmse_te}\".format(rmse_tr=rmse_tr, rmse_te=rmse_te))"
   ]
  }
 ],
 "metadata": {
  "kernelspec": {
   "display_name": "modern_nlp",
   "language": "python",
   "name": "python3"
  },
  "language_info": {
   "codemirror_mode": {
    "name": "ipython",
    "version": 3
   },
   "file_extension": ".py",
   "mimetype": "text/x-python",
   "name": "python",
   "nbconvert_exporter": "python",
   "pygments_lexer": "ipython3",
   "version": "3.11.4"
  },
  "orig_nbformat": 4
 },
 "nbformat": 4,
 "nbformat_minor": 2
}
